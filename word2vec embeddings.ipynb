{
 "cells": [
  {
   "cell_type": "code",
   "execution_count": 2,
   "metadata": {},
   "outputs": [
    {
     "name": "stderr",
     "output_type": "stream",
     "text": [
      "/home/mounika/anaconda3/lib/python3.6/site-packages/h5py/__init__.py:36: FutureWarning: Conversion of the second argument of issubdtype from `float` to `np.floating` is deprecated. In future, it will be treated as `np.float64 == np.dtype(float).type`.\n",
      "  from ._conv import register_converters as _register_converters\n"
     ]
    }
   ],
   "source": [
    "from bert_embedding import BertEmbedding\n",
    "import pandas as pd\n",
    "import numpy as np\n",
    "import mxnet as mx\n",
    "from sklearn.model_selection import train_test_split,cross_val_score\n",
    "from sklearn.metrics import classification_report,confusion_matrix\n",
    "import pickle\n",
    "import models\n",
    "from gensim.models import Word2Vec"
   ]
  },
  {
   "cell_type": "code",
   "execution_count": 2,
   "metadata": {},
   "outputs": [],
   "source": [
    "from gensim.models import KeyedVectors\n",
    "w2vmodel = KeyedVectors.load_word2vec_format(\"./GoogleNews-vectors-negative300-002.bin\",binary=True)"
   ]
  },
  {
   "cell_type": "code",
   "execution_count": 3,
   "metadata": {},
   "outputs": [],
   "source": [
    "import spacy\n",
    "nlp = spacy.load('en_core_web_sm')"
   ]
  },
  {
   "cell_type": "code",
   "execution_count": 4,
   "metadata": {},
   "outputs": [],
   "source": [
    "def glove_features(data):\n",
    "    x_hk_w2 = []\n",
    "    for i in data:\n",
    "        tokens = nlp(i)\n",
    "        temp = []\n",
    "        for token in tokens:\n",
    "            try:\n",
    "                temp.append(w2vmodel[str(token).lower()])\n",
    "            except:\n",
    "                continue\n",
    "        temp = np.array(temp)\n",
    "        if temp.size==0:\n",
    "            temp = np.zeros([1,300])\n",
    "        #print(temp.shape)\n",
    "        x_hk_w2.append(np.average(temp,axis=0))\n",
    "    x_hk_w2 = np.array(x_hk_w2)\n",
    "    print(x_hk_w2.shape)\n",
    "    return x_hk_w2"
   ]
  },
  {
   "cell_type": "code",
   "execution_count": 60,
   "metadata": {},
   "outputs": [],
   "source": [
    "fp = open('./Video_Games/OnlyText.txt','r')\n",
    "lines = fp.readlines()"
   ]
  },
  {
   "cell_type": "code",
   "execution_count": 61,
   "metadata": {},
   "outputs": [],
   "source": [
    "text_data = []\n",
    "for line in lines:\n",
    "    text_data.append(line.strip('\\n'))"
   ]
  },
  {
   "cell_type": "code",
   "execution_count": 62,
   "metadata": {},
   "outputs": [
    {
     "name": "stdout",
     "output_type": "stream",
     "text": [
      "50000\n"
     ]
    }
   ],
   "source": [
    "print(len(text_data))"
   ]
  },
  {
   "cell_type": "code",
   "execution_count": 63,
   "metadata": {},
   "outputs": [
    {
     "name": "stdout",
     "output_type": "stream",
     "text": [
      "(50000, 300)\n"
     ]
    }
   ],
   "source": [
    "x_features_hk_w2v = glove_features(text_data)"
   ]
  },
  {
   "cell_type": "code",
   "execution_count": 64,
   "metadata": {},
   "outputs": [],
   "source": [
    "np.save('/home/mounika/Desktop/Word-Embeddings/dranziera_protocol/WORD2VEC_features/Video_Games_w2v.npy',x_features_hk_w2v)"
   ]
  },
  {
   "cell_type": "code",
   "execution_count": null,
   "metadata": {},
   "outputs": [],
   "source": []
  },
  {
   "cell_type": "code",
   "execution_count": 327,
   "metadata": {},
   "outputs": [],
   "source": [
    "x_features = np.load('./WORD2VEC_features/Clothing_Accessories_w2v.npy')"
   ]
  },
  {
   "cell_type": "code",
   "execution_count": 330,
   "metadata": {},
   "outputs": [],
   "source": [
    "labels = pd.read_csv('./Clothing_Accessories/polarity.txt',header=None)"
   ]
  },
  {
   "cell_type": "code",
   "execution_count": 331,
   "metadata": {},
   "outputs": [
    {
     "data": {
      "text/plain": [
       "(50000, 1)"
      ]
     },
     "execution_count": 331,
     "metadata": {},
     "output_type": "execute_result"
    }
   ],
   "source": [
    "labels.shape"
   ]
  },
  {
   "cell_type": "code",
   "execution_count": 332,
   "metadata": {},
   "outputs": [],
   "source": [
    "y = []\n",
    "for i in labels[0]:\n",
    "    if i=='positive':\n",
    "        y.append(1)\n",
    "    else:\n",
    "        y.append(0)"
   ]
  },
  {
   "cell_type": "code",
   "execution_count": 333,
   "metadata": {},
   "outputs": [],
   "source": [
    "y = np.array(y)"
   ]
  },
  {
   "cell_type": "code",
   "execution_count": 334,
   "metadata": {},
   "outputs": [
    {
     "name": "stdout",
     "output_type": "stream",
     "text": [
      "(50000, 300)\n",
      "(50000,)\n"
     ]
    }
   ],
   "source": [
    "print(x_features.shape)\n",
    "print(y.shape)"
   ]
  },
  {
   "cell_type": "code",
   "execution_count": null,
   "metadata": {},
   "outputs": [],
   "source": []
  },
  {
   "cell_type": "code",
   "execution_count": 335,
   "metadata": {},
   "outputs": [],
   "source": [
    "from sklearn.model_selection import train_test_split,cross_val_score\n",
    "x_train,x_test,y_train,y_test = train_test_split(x_features,y,test_size=0.2,random_state=47)"
   ]
  },
  {
   "cell_type": "code",
   "execution_count": 336,
   "metadata": {},
   "outputs": [],
   "source": [
    "from gcforest.gcforest import GCForest\n",
    "from gcforest.utils.config_utils import load_json\n",
    "import argparse"
   ]
  },
  {
   "cell_type": "code",
   "execution_count": 337,
   "metadata": {},
   "outputs": [],
   "source": [
    "\n",
    "def parse_args():\n",
    "    parser = argparse.ArgumentParser()\n",
    "    parser.add_argument(\"--model\", dest=\"model\", type=str, default=None, help=\"gcfoest Net Model File\")\n",
    "    args = parser.parse_args()\n",
    "    return args\n",
    "\n",
    "\n",
    "def get_toy_config():\n",
    "    config = {}\n",
    "    ca_config = {}\n",
    "    ca_config[\"random_state\"] = 0\n",
    "    ca_config[\"max_layers\"] = 100\n",
    "    ca_config[\"early_stopping_rounds\"] = 3\n",
    "    ca_config[\"n_classes\"] = 2\n",
    "    ca_config[\"estimators\"] = []\n",
    "    ca_config[\"estimators\"].append(\n",
    "            {\"n_folds\": 5, \"type\": \"LGBClassifier\", \"n_estimators\": 10, \"max_depth\": 5,\n",
    "             \"objective\": \"binary\", \"silent\": True, \"nthread\": 5, \"learning_rate\": 0.1} )\n",
    "    ca_config[\"estimators\"].append({\"n_folds\": 5, \"type\": \"RandomForestClassifier\", \"n_estimators\": 10, \"max_depth\": None, \"n_jobs\": -1})\n",
    "    ca_config[\"estimators\"].append({\"n_folds\": 5, \"type\": \"ExtraTreesClassifier\", \"n_estimators\": 10, \"max_depth\": None, \"n_jobs\": -1})\n",
    "    ca_config[\"estimators\"].append({\"n_folds\": 5, \"type\": \"LogisticRegression\"}),\n",
    "    #ca_config[\"estimators\"].append({\"n_folds\": 5, \"type\": \"GradientBoostingClassifier\"})\n",
    "    config[\"cascade\"] = ca_config\n",
    "    return config"
   ]
  },
  {
   "cell_type": "code",
   "execution_count": 338,
   "metadata": {},
   "outputs": [],
   "source": [
    "config = get_toy_config()\n",
    "gc = GCForest(config)"
   ]
  },
  {
   "cell_type": "code",
   "execution_count": 339,
   "metadata": {},
   "outputs": [
    {
     "data": {
      "text/plain": [
       "{'cascade': {'random_state': 0,\n",
       "  'max_layers': 100,\n",
       "  'early_stopping_rounds': 3,\n",
       "  'n_classes': 2,\n",
       "  'estimators': [{'n_folds': 5,\n",
       "    'type': 'LGBClassifier',\n",
       "    'n_estimators': 10,\n",
       "    'max_depth': 5,\n",
       "    'objective': 'binary',\n",
       "    'silent': True,\n",
       "    'nthread': 5,\n",
       "    'learning_rate': 0.1},\n",
       "   {'n_folds': 5,\n",
       "    'type': 'RandomForestClassifier',\n",
       "    'n_estimators': 10,\n",
       "    'max_depth': None,\n",
       "    'n_jobs': -1},\n",
       "   {'n_folds': 5,\n",
       "    'type': 'ExtraTreesClassifier',\n",
       "    'n_estimators': 10,\n",
       "    'max_depth': None,\n",
       "    'n_jobs': -1},\n",
       "   {'n_folds': 5, 'type': 'LogisticRegression'}]}}"
      ]
     },
     "execution_count": 339,
     "metadata": {},
     "output_type": "execute_result"
    }
   ],
   "source": [
    "gc.config"
   ]
  },
  {
   "cell_type": "code",
   "execution_count": 340,
   "metadata": {},
   "outputs": [
    {
     "name": "stderr",
     "output_type": "stream",
     "text": [
      "[ 2019-03-26 21:41:18,556][cascade_classifier.fit_transform] X_groups_train.shape=[(40000, 300)],y_train.shape=(40000,),X_groups_test.shape=[(10000, 300)],y_test.shape=(10000,)\n",
      "[ 2019-03-26 21:41:18,567][cascade_classifier.fit_transform] group_dims=[300]\n",
      "[ 2019-03-26 21:41:18,568][cascade_classifier.fit_transform] group_starts=[0]\n",
      "[ 2019-03-26 21:41:18,569][cascade_classifier.fit_transform] group_ends=[300]\n",
      "[ 2019-03-26 21:41:18,570][cascade_classifier.fit_transform] X_train.shape=(40000, 300),X_test.shape=(10000, 300)\n",
      "[ 2019-03-26 21:41:18,589][cascade_classifier.fit_transform] [layer=0] look_indexs=[0], X_cur_train.shape=(40000, 300), X_cur_test.shape=(10000, 300)\n",
      "[ 2019-03-26 21:41:19,411][kfold_wrapper.log_eval_metrics] Accuracy(layer_0 - estimator_0 - 5_folds.train_0.predict)=85.25%\n",
      "[ 2019-03-26 21:41:20,260][kfold_wrapper.log_eval_metrics] Accuracy(layer_0 - estimator_0 - 5_folds.train_1.predict)=85.85%\n",
      "[ 2019-03-26 21:41:21,065][kfold_wrapper.log_eval_metrics] Accuracy(layer_0 - estimator_0 - 5_folds.train_2.predict)=84.79%\n",
      "[ 2019-03-26 21:41:21,873][kfold_wrapper.log_eval_metrics] Accuracy(layer_0 - estimator_0 - 5_folds.train_3.predict)=86.02%\n",
      "[ 2019-03-26 21:41:22,689][kfold_wrapper.log_eval_metrics] Accuracy(layer_0 - estimator_0 - 5_folds.train_4.predict)=85.20%\n",
      "[ 2019-03-26 21:41:22,699][kfold_wrapper.log_eval_metrics] Accuracy(layer_0 - estimator_0 - 5_folds.train_cv.predict)=85.42%\n",
      "[ 2019-03-26 21:41:22,699][kfold_wrapper.log_eval_metrics] Accuracy(layer_0 - estimator_0 - 5_folds.test.predict)=86.63%\n",
      "[ 2019-03-26 21:41:23,540][kfold_wrapper.log_eval_metrics] Accuracy(layer_0 - estimator_1 - 5_folds.train_0.predict)=92.10%\n",
      "[ 2019-03-26 21:41:24,491][kfold_wrapper.log_eval_metrics] Accuracy(layer_0 - estimator_1 - 5_folds.train_1.predict)=92.34%\n",
      "[ 2019-03-26 21:41:25,421][kfold_wrapper.log_eval_metrics] Accuracy(layer_0 - estimator_1 - 5_folds.train_2.predict)=91.75%\n",
      "[ 2019-03-26 21:41:26,357][kfold_wrapper.log_eval_metrics] Accuracy(layer_0 - estimator_1 - 5_folds.train_3.predict)=92.20%\n",
      "[ 2019-03-26 21:41:27,315][kfold_wrapper.log_eval_metrics] Accuracy(layer_0 - estimator_1 - 5_folds.train_4.predict)=92.21%\n",
      "[ 2019-03-26 21:41:27,428][kfold_wrapper.log_eval_metrics] Accuracy(layer_0 - estimator_1 - 5_folds.train_cv.predict)=92.12%\n",
      "[ 2019-03-26 21:41:27,430][kfold_wrapper.log_eval_metrics] Accuracy(layer_0 - estimator_1 - 5_folds.test.predict)=94.74%\n",
      "[ 2019-03-26 21:41:28,008][kfold_wrapper.log_eval_metrics] Accuracy(layer_0 - estimator_2 - 5_folds.train_0.predict)=91.99%\n",
      "[ 2019-03-26 21:41:28,636][kfold_wrapper.log_eval_metrics] Accuracy(layer_0 - estimator_2 - 5_folds.train_1.predict)=91.13%\n",
      "[ 2019-03-26 21:41:29,273][kfold_wrapper.log_eval_metrics] Accuracy(layer_0 - estimator_2 - 5_folds.train_2.predict)=91.76%\n",
      "[ 2019-03-26 21:41:30,031][kfold_wrapper.log_eval_metrics] Accuracy(layer_0 - estimator_2 - 5_folds.train_3.predict)=91.35%\n",
      "[ 2019-03-26 21:41:30,656][kfold_wrapper.log_eval_metrics] Accuracy(layer_0 - estimator_2 - 5_folds.train_4.predict)=91.72%\n",
      "[ 2019-03-26 21:41:30,762][kfold_wrapper.log_eval_metrics] Accuracy(layer_0 - estimator_2 - 5_folds.train_cv.predict)=91.59%\n",
      "[ 2019-03-26 21:41:30,763][kfold_wrapper.log_eval_metrics] Accuracy(layer_0 - estimator_2 - 5_folds.test.predict)=94.44%\n",
      "/home/mounika/anaconda3/lib/python3.6/site-packages/sklearn/linear_model/logistic.py:433: FutureWarning: Default solver will be changed to 'lbfgs' in 0.22. Specify a solver to silence this warning.\n",
      "  FutureWarning)\n",
      "[ 2019-03-26 21:41:32,100][kfold_wrapper.log_eval_metrics] Accuracy(layer_0 - estimator_3 - 5_folds.train_0.predict)=86.74%\n",
      "/home/mounika/anaconda3/lib/python3.6/site-packages/sklearn/linear_model/logistic.py:433: FutureWarning: Default solver will be changed to 'lbfgs' in 0.22. Specify a solver to silence this warning.\n",
      "  FutureWarning)\n",
      "[ 2019-03-26 21:41:33,454][kfold_wrapper.log_eval_metrics] Accuracy(layer_0 - estimator_3 - 5_folds.train_1.predict)=86.96%\n",
      "/home/mounika/anaconda3/lib/python3.6/site-packages/sklearn/linear_model/logistic.py:433: FutureWarning: Default solver will be changed to 'lbfgs' in 0.22. Specify a solver to silence this warning.\n",
      "  FutureWarning)\n",
      "[ 2019-03-26 21:41:34,959][kfold_wrapper.log_eval_metrics] Accuracy(layer_0 - estimator_3 - 5_folds.train_2.predict)=86.88%\n",
      "/home/mounika/anaconda3/lib/python3.6/site-packages/sklearn/linear_model/logistic.py:433: FutureWarning: Default solver will be changed to 'lbfgs' in 0.22. Specify a solver to silence this warning.\n",
      "  FutureWarning)\n",
      "[ 2019-03-26 21:41:36,317][kfold_wrapper.log_eval_metrics] Accuracy(layer_0 - estimator_3 - 5_folds.train_3.predict)=87.34%\n",
      "/home/mounika/anaconda3/lib/python3.6/site-packages/sklearn/linear_model/logistic.py:433: FutureWarning: Default solver will be changed to 'lbfgs' in 0.22. Specify a solver to silence this warning.\n",
      "  FutureWarning)\n",
      "[ 2019-03-26 21:41:37,721][kfold_wrapper.log_eval_metrics] Accuracy(layer_0 - estimator_3 - 5_folds.train_4.predict)=86.66%\n",
      "[ 2019-03-26 21:41:37,736][kfold_wrapper.log_eval_metrics] Accuracy(layer_0 - estimator_3 - 5_folds.train_cv.predict)=86.91%\n",
      "[ 2019-03-26 21:41:37,744][kfold_wrapper.log_eval_metrics] Accuracy(layer_0 - estimator_3 - 5_folds.test.predict)=87.45%\n",
      "[ 2019-03-26 21:41:37,747][cascade_classifier.calc_accuracy] Accuracy(layer_0 - train.classifier_average)=94.80%\n",
      "[ 2019-03-26 21:41:37,748][cascade_classifier.calc_accuracy] Accuracy(layer_0 - test.classifier_average)=95.64%\n",
      "[ 2019-03-26 21:41:37,764][cascade_classifier.fit_transform] [layer=1] look_indexs=[0], X_cur_train.shape=(40000, 308), X_cur_test.shape=(10000, 308)\n",
      "[ 2019-03-26 21:41:38,576][kfold_wrapper.log_eval_metrics] Accuracy(layer_1 - estimator_0 - 5_folds.train_0.predict)=95.20%\n",
      "[ 2019-03-26 21:41:39,380][kfold_wrapper.log_eval_metrics] Accuracy(layer_1 - estimator_0 - 5_folds.train_1.predict)=95.21%\n",
      "[ 2019-03-26 21:41:40,196][kfold_wrapper.log_eval_metrics] Accuracy(layer_1 - estimator_0 - 5_folds.train_2.predict)=95.33%\n",
      "[ 2019-03-26 21:41:41,010][kfold_wrapper.log_eval_metrics] Accuracy(layer_1 - estimator_0 - 5_folds.train_3.predict)=95.44%\n",
      "[ 2019-03-26 21:41:41,813][kfold_wrapper.log_eval_metrics] Accuracy(layer_1 - estimator_0 - 5_folds.train_4.predict)=95.06%\n",
      "[ 2019-03-26 21:41:41,823][kfold_wrapper.log_eval_metrics] Accuracy(layer_1 - estimator_0 - 5_folds.train_cv.predict)=95.25%\n",
      "[ 2019-03-26 21:41:41,824][kfold_wrapper.log_eval_metrics] Accuracy(layer_1 - estimator_0 - 5_folds.test.predict)=95.17%\n",
      "[ 2019-03-26 21:41:42,677][kfold_wrapper.log_eval_metrics] Accuracy(layer_1 - estimator_1 - 5_folds.train_0.predict)=94.35%\n",
      "[ 2019-03-26 21:41:43,634][kfold_wrapper.log_eval_metrics] Accuracy(layer_1 - estimator_1 - 5_folds.train_1.predict)=95.03%\n",
      "[ 2019-03-26 21:41:44,559][kfold_wrapper.log_eval_metrics] Accuracy(layer_1 - estimator_1 - 5_folds.train_2.predict)=94.70%\n",
      "[ 2019-03-26 21:41:45,506][kfold_wrapper.log_eval_metrics] Accuracy(layer_1 - estimator_1 - 5_folds.train_3.predict)=94.76%\n",
      "[ 2019-03-26 21:41:46,565][kfold_wrapper.log_eval_metrics] Accuracy(layer_1 - estimator_1 - 5_folds.train_4.predict)=94.67%\n",
      "[ 2019-03-26 21:41:46,672][kfold_wrapper.log_eval_metrics] Accuracy(layer_1 - estimator_1 - 5_folds.train_cv.predict)=94.70%\n",
      "[ 2019-03-26 21:41:46,674][kfold_wrapper.log_eval_metrics] Accuracy(layer_1 - estimator_1 - 5_folds.test.predict)=95.86%\n",
      "[ 2019-03-26 21:41:47,239][kfold_wrapper.log_eval_metrics] Accuracy(layer_1 - estimator_2 - 5_folds.train_0.predict)=94.88%\n",
      "[ 2019-03-26 21:41:47,869][kfold_wrapper.log_eval_metrics] Accuracy(layer_1 - estimator_2 - 5_folds.train_1.predict)=94.60%\n",
      "[ 2019-03-26 21:41:48,497][kfold_wrapper.log_eval_metrics] Accuracy(layer_1 - estimator_2 - 5_folds.train_2.predict)=94.05%\n",
      "[ 2019-03-26 21:41:49,150][kfold_wrapper.log_eval_metrics] Accuracy(layer_1 - estimator_2 - 5_folds.train_3.predict)=95.10%\n",
      "[ 2019-03-26 21:41:49,776][kfold_wrapper.log_eval_metrics] Accuracy(layer_1 - estimator_2 - 5_folds.train_4.predict)=94.50%\n",
      "[ 2019-03-26 21:41:49,882][kfold_wrapper.log_eval_metrics] Accuracy(layer_1 - estimator_2 - 5_folds.train_cv.predict)=94.62%\n",
      "[ 2019-03-26 21:41:49,883][kfold_wrapper.log_eval_metrics] Accuracy(layer_1 - estimator_2 - 5_folds.test.predict)=95.76%\n",
      "/home/mounika/anaconda3/lib/python3.6/site-packages/sklearn/linear_model/logistic.py:433: FutureWarning: Default solver will be changed to 'lbfgs' in 0.22. Specify a solver to silence this warning.\n",
      "  FutureWarning)\n"
     ]
    },
    {
     "name": "stderr",
     "output_type": "stream",
     "text": [
      "[ 2019-03-26 21:41:51,171][kfold_wrapper.log_eval_metrics] Accuracy(layer_1 - estimator_3 - 5_folds.train_0.predict)=95.19%\n",
      "/home/mounika/anaconda3/lib/python3.6/site-packages/sklearn/linear_model/logistic.py:433: FutureWarning: Default solver will be changed to 'lbfgs' in 0.22. Specify a solver to silence this warning.\n",
      "  FutureWarning)\n",
      "[ 2019-03-26 21:41:52,445][kfold_wrapper.log_eval_metrics] Accuracy(layer_1 - estimator_3 - 5_folds.train_1.predict)=95.16%\n",
      "/home/mounika/anaconda3/lib/python3.6/site-packages/sklearn/linear_model/logistic.py:433: FutureWarning: Default solver will be changed to 'lbfgs' in 0.22. Specify a solver to silence this warning.\n",
      "  FutureWarning)\n",
      "[ 2019-03-26 21:41:53,790][kfold_wrapper.log_eval_metrics] Accuracy(layer_1 - estimator_3 - 5_folds.train_2.predict)=94.99%\n",
      "/home/mounika/anaconda3/lib/python3.6/site-packages/sklearn/linear_model/logistic.py:433: FutureWarning: Default solver will be changed to 'lbfgs' in 0.22. Specify a solver to silence this warning.\n",
      "  FutureWarning)\n",
      "[ 2019-03-26 21:41:55,119][kfold_wrapper.log_eval_metrics] Accuracy(layer_1 - estimator_3 - 5_folds.train_3.predict)=95.16%\n",
      "/home/mounika/anaconda3/lib/python3.6/site-packages/sklearn/linear_model/logistic.py:433: FutureWarning: Default solver will be changed to 'lbfgs' in 0.22. Specify a solver to silence this warning.\n",
      "  FutureWarning)\n",
      "[ 2019-03-26 21:41:56,428][kfold_wrapper.log_eval_metrics] Accuracy(layer_1 - estimator_3 - 5_folds.train_4.predict)=95.25%\n",
      "[ 2019-03-26 21:41:56,438][kfold_wrapper.log_eval_metrics] Accuracy(layer_1 - estimator_3 - 5_folds.train_cv.predict)=95.15%\n",
      "[ 2019-03-26 21:41:56,439][kfold_wrapper.log_eval_metrics] Accuracy(layer_1 - estimator_3 - 5_folds.test.predict)=96.13%\n",
      "[ 2019-03-26 21:41:56,442][cascade_classifier.calc_accuracy] Accuracy(layer_1 - train.classifier_average)=95.42%\n",
      "[ 2019-03-26 21:41:56,446][cascade_classifier.calc_accuracy] Accuracy(layer_1 - test.classifier_average)=96.08%\n",
      "[ 2019-03-26 21:41:56,466][cascade_classifier.fit_transform] [layer=2] look_indexs=[0], X_cur_train.shape=(40000, 308), X_cur_test.shape=(10000, 308)\n",
      "[ 2019-03-26 21:41:57,306][kfold_wrapper.log_eval_metrics] Accuracy(layer_2 - estimator_0 - 5_folds.train_0.predict)=95.39%\n",
      "[ 2019-03-26 21:41:58,096][kfold_wrapper.log_eval_metrics] Accuracy(layer_2 - estimator_0 - 5_folds.train_1.predict)=95.43%\n",
      "[ 2019-03-26 21:41:58,898][kfold_wrapper.log_eval_metrics] Accuracy(layer_2 - estimator_0 - 5_folds.train_2.predict)=95.75%\n",
      "[ 2019-03-26 21:41:59,702][kfold_wrapper.log_eval_metrics] Accuracy(layer_2 - estimator_0 - 5_folds.train_3.predict)=95.62%\n",
      "[ 2019-03-26 21:42:00,503][kfold_wrapper.log_eval_metrics] Accuracy(layer_2 - estimator_0 - 5_folds.train_4.predict)=95.27%\n",
      "[ 2019-03-26 21:42:00,514][kfold_wrapper.log_eval_metrics] Accuracy(layer_2 - estimator_0 - 5_folds.train_cv.predict)=95.49%\n",
      "[ 2019-03-26 21:42:00,515][kfold_wrapper.log_eval_metrics] Accuracy(layer_2 - estimator_0 - 5_folds.test.predict)=95.78%\n",
      "[ 2019-03-26 21:42:01,360][kfold_wrapper.log_eval_metrics] Accuracy(layer_2 - estimator_1 - 5_folds.train_0.predict)=95.08%\n",
      "[ 2019-03-26 21:42:02,315][kfold_wrapper.log_eval_metrics] Accuracy(layer_2 - estimator_1 - 5_folds.train_1.predict)=95.20%\n",
      "[ 2019-03-26 21:42:03,248][kfold_wrapper.log_eval_metrics] Accuracy(layer_2 - estimator_1 - 5_folds.train_2.predict)=94.80%\n",
      "[ 2019-03-26 21:42:04,180][kfold_wrapper.log_eval_metrics] Accuracy(layer_2 - estimator_1 - 5_folds.train_3.predict)=95.02%\n",
      "[ 2019-03-26 21:42:05,111][kfold_wrapper.log_eval_metrics] Accuracy(layer_2 - estimator_1 - 5_folds.train_4.predict)=95.20%\n",
      "[ 2019-03-26 21:42:05,215][kfold_wrapper.log_eval_metrics] Accuracy(layer_2 - estimator_1 - 5_folds.train_cv.predict)=95.06%\n",
      "[ 2019-03-26 21:42:05,216][kfold_wrapper.log_eval_metrics] Accuracy(layer_2 - estimator_1 - 5_folds.test.predict)=96.11%\n",
      "[ 2019-03-26 21:42:05,755][kfold_wrapper.log_eval_metrics] Accuracy(layer_2 - estimator_2 - 5_folds.train_0.predict)=95.46%\n",
      "[ 2019-03-26 21:42:06,414][kfold_wrapper.log_eval_metrics] Accuracy(layer_2 - estimator_2 - 5_folds.train_1.predict)=95.21%\n",
      "[ 2019-03-26 21:42:07,043][kfold_wrapper.log_eval_metrics] Accuracy(layer_2 - estimator_2 - 5_folds.train_2.predict)=95.45%\n",
      "[ 2019-03-26 21:42:07,698][kfold_wrapper.log_eval_metrics] Accuracy(layer_2 - estimator_2 - 5_folds.train_3.predict)=95.51%\n",
      "[ 2019-03-26 21:42:08,334][kfold_wrapper.log_eval_metrics] Accuracy(layer_2 - estimator_2 - 5_folds.train_4.predict)=95.16%\n",
      "[ 2019-03-26 21:42:08,450][kfold_wrapper.log_eval_metrics] Accuracy(layer_2 - estimator_2 - 5_folds.train_cv.predict)=95.36%\n",
      "[ 2019-03-26 21:42:08,452][kfold_wrapper.log_eval_metrics] Accuracy(layer_2 - estimator_2 - 5_folds.test.predict)=95.98%\n",
      "/home/mounika/anaconda3/lib/python3.6/site-packages/sklearn/linear_model/logistic.py:433: FutureWarning: Default solver will be changed to 'lbfgs' in 0.22. Specify a solver to silence this warning.\n",
      "  FutureWarning)\n",
      "[ 2019-03-26 21:42:09,713][kfold_wrapper.log_eval_metrics] Accuracy(layer_2 - estimator_3 - 5_folds.train_0.predict)=95.76%\n",
      "/home/mounika/anaconda3/lib/python3.6/site-packages/sklearn/linear_model/logistic.py:433: FutureWarning: Default solver will be changed to 'lbfgs' in 0.22. Specify a solver to silence this warning.\n",
      "  FutureWarning)\n",
      "[ 2019-03-26 21:42:10,977][kfold_wrapper.log_eval_metrics] Accuracy(layer_2 - estimator_3 - 5_folds.train_1.predict)=95.44%\n",
      "/home/mounika/anaconda3/lib/python3.6/site-packages/sklearn/linear_model/logistic.py:433: FutureWarning: Default solver will be changed to 'lbfgs' in 0.22. Specify a solver to silence this warning.\n",
      "  FutureWarning)\n",
      "[ 2019-03-26 21:42:12,179][kfold_wrapper.log_eval_metrics] Accuracy(layer_2 - estimator_3 - 5_folds.train_2.predict)=95.65%\n",
      "/home/mounika/anaconda3/lib/python3.6/site-packages/sklearn/linear_model/logistic.py:433: FutureWarning: Default solver will be changed to 'lbfgs' in 0.22. Specify a solver to silence this warning.\n",
      "  FutureWarning)\n",
      "[ 2019-03-26 21:42:13,433][kfold_wrapper.log_eval_metrics] Accuracy(layer_2 - estimator_3 - 5_folds.train_3.predict)=95.55%\n",
      "/home/mounika/anaconda3/lib/python3.6/site-packages/sklearn/linear_model/logistic.py:433: FutureWarning: Default solver will be changed to 'lbfgs' in 0.22. Specify a solver to silence this warning.\n",
      "  FutureWarning)\n",
      "[ 2019-03-26 21:42:14,588][kfold_wrapper.log_eval_metrics] Accuracy(layer_2 - estimator_3 - 5_folds.train_4.predict)=95.24%\n",
      "[ 2019-03-26 21:42:14,604][kfold_wrapper.log_eval_metrics] Accuracy(layer_2 - estimator_3 - 5_folds.train_cv.predict)=95.53%\n",
      "[ 2019-03-26 21:42:14,605][kfold_wrapper.log_eval_metrics] Accuracy(layer_2 - estimator_3 - 5_folds.test.predict)=96.11%\n",
      "[ 2019-03-26 21:42:14,607][cascade_classifier.calc_accuracy] Accuracy(layer_2 - train.classifier_average)=95.66%\n",
      "[ 2019-03-26 21:42:14,608][cascade_classifier.calc_accuracy] Accuracy(layer_2 - test.classifier_average)=96.15%\n",
      "[ 2019-03-26 21:42:14,623][cascade_classifier.fit_transform] [layer=3] look_indexs=[0], X_cur_train.shape=(40000, 308), X_cur_test.shape=(10000, 308)\n",
      "[ 2019-03-26 21:42:15,440][kfold_wrapper.log_eval_metrics] Accuracy(layer_3 - estimator_0 - 5_folds.train_0.predict)=95.80%\n",
      "[ 2019-03-26 21:42:16,242][kfold_wrapper.log_eval_metrics] Accuracy(layer_3 - estimator_0 - 5_folds.train_1.predict)=95.60%\n",
      "[ 2019-03-26 21:42:17,052][kfold_wrapper.log_eval_metrics] Accuracy(layer_3 - estimator_0 - 5_folds.train_2.predict)=95.43%\n",
      "[ 2019-03-26 21:42:17,857][kfold_wrapper.log_eval_metrics] Accuracy(layer_3 - estimator_0 - 5_folds.train_3.predict)=95.64%\n",
      "[ 2019-03-26 21:42:18,682][kfold_wrapper.log_eval_metrics] Accuracy(layer_3 - estimator_0 - 5_folds.train_4.predict)=95.60%\n",
      "[ 2019-03-26 21:42:18,693][kfold_wrapper.log_eval_metrics] Accuracy(layer_3 - estimator_0 - 5_folds.train_cv.predict)=95.61%\n",
      "[ 2019-03-26 21:42:18,693][kfold_wrapper.log_eval_metrics] Accuracy(layer_3 - estimator_0 - 5_folds.test.predict)=96.14%\n",
      "[ 2019-03-26 21:42:19,540][kfold_wrapper.log_eval_metrics] Accuracy(layer_3 - estimator_1 - 5_folds.train_0.predict)=95.25%\n",
      "[ 2019-03-26 21:42:20,499][kfold_wrapper.log_eval_metrics] Accuracy(layer_3 - estimator_1 - 5_folds.train_1.predict)=95.44%\n",
      "[ 2019-03-26 21:42:21,429][kfold_wrapper.log_eval_metrics] Accuracy(layer_3 - estimator_1 - 5_folds.train_2.predict)=95.16%\n"
     ]
    },
    {
     "name": "stderr",
     "output_type": "stream",
     "text": [
      "[ 2019-03-26 21:42:22,360][kfold_wrapper.log_eval_metrics] Accuracy(layer_3 - estimator_1 - 5_folds.train_3.predict)=95.17%\n",
      "[ 2019-03-26 21:42:23,290][kfold_wrapper.log_eval_metrics] Accuracy(layer_3 - estimator_1 - 5_folds.train_4.predict)=95.34%\n",
      "[ 2019-03-26 21:42:23,406][kfold_wrapper.log_eval_metrics] Accuracy(layer_3 - estimator_1 - 5_folds.train_cv.predict)=95.27%\n",
      "[ 2019-03-26 21:42:23,410][kfold_wrapper.log_eval_metrics] Accuracy(layer_3 - estimator_1 - 5_folds.test.predict)=96.06%\n",
      "[ 2019-03-26 21:42:23,983][kfold_wrapper.log_eval_metrics] Accuracy(layer_3 - estimator_2 - 5_folds.train_0.predict)=95.31%\n",
      "[ 2019-03-26 21:42:24,713][kfold_wrapper.log_eval_metrics] Accuracy(layer_3 - estimator_2 - 5_folds.train_1.predict)=95.20%\n",
      "[ 2019-03-26 21:42:25,473][kfold_wrapper.log_eval_metrics] Accuracy(layer_3 - estimator_2 - 5_folds.train_2.predict)=95.50%\n",
      "[ 2019-03-26 21:42:26,200][kfold_wrapper.log_eval_metrics] Accuracy(layer_3 - estimator_2 - 5_folds.train_3.predict)=95.25%\n",
      "[ 2019-03-26 21:42:26,858][kfold_wrapper.log_eval_metrics] Accuracy(layer_3 - estimator_2 - 5_folds.train_4.predict)=95.26%\n",
      "[ 2019-03-26 21:42:26,964][kfold_wrapper.log_eval_metrics] Accuracy(layer_3 - estimator_2 - 5_folds.train_cv.predict)=95.30%\n",
      "[ 2019-03-26 21:42:26,965][kfold_wrapper.log_eval_metrics] Accuracy(layer_3 - estimator_2 - 5_folds.test.predict)=96.09%\n",
      "/home/mounika/anaconda3/lib/python3.6/site-packages/sklearn/linear_model/logistic.py:433: FutureWarning: Default solver will be changed to 'lbfgs' in 0.22. Specify a solver to silence this warning.\n",
      "  FutureWarning)\n",
      "[ 2019-03-26 21:42:27,914][kfold_wrapper.log_eval_metrics] Accuracy(layer_3 - estimator_3 - 5_folds.train_0.predict)=95.69%\n",
      "/home/mounika/anaconda3/lib/python3.6/site-packages/sklearn/linear_model/logistic.py:433: FutureWarning: Default solver will be changed to 'lbfgs' in 0.22. Specify a solver to silence this warning.\n",
      "  FutureWarning)\n",
      "[ 2019-03-26 21:42:28,905][kfold_wrapper.log_eval_metrics] Accuracy(layer_3 - estimator_3 - 5_folds.train_1.predict)=95.85%\n",
      "/home/mounika/anaconda3/lib/python3.6/site-packages/sklearn/linear_model/logistic.py:433: FutureWarning: Default solver will be changed to 'lbfgs' in 0.22. Specify a solver to silence this warning.\n",
      "  FutureWarning)\n",
      "[ 2019-03-26 21:42:29,895][kfold_wrapper.log_eval_metrics] Accuracy(layer_3 - estimator_3 - 5_folds.train_2.predict)=95.34%\n",
      "/home/mounika/anaconda3/lib/python3.6/site-packages/sklearn/linear_model/logistic.py:433: FutureWarning: Default solver will be changed to 'lbfgs' in 0.22. Specify a solver to silence this warning.\n",
      "  FutureWarning)\n",
      "[ 2019-03-26 21:42:30,861][kfold_wrapper.log_eval_metrics] Accuracy(layer_3 - estimator_3 - 5_folds.train_3.predict)=95.92%\n",
      "/home/mounika/anaconda3/lib/python3.6/site-packages/sklearn/linear_model/logistic.py:433: FutureWarning: Default solver will be changed to 'lbfgs' in 0.22. Specify a solver to silence this warning.\n",
      "  FutureWarning)\n",
      "[ 2019-03-26 21:42:31,851][kfold_wrapper.log_eval_metrics] Accuracy(layer_3 - estimator_3 - 5_folds.train_4.predict)=95.20%\n",
      "[ 2019-03-26 21:42:31,860][kfold_wrapper.log_eval_metrics] Accuracy(layer_3 - estimator_3 - 5_folds.train_cv.predict)=95.60%\n",
      "[ 2019-03-26 21:42:31,861][kfold_wrapper.log_eval_metrics] Accuracy(layer_3 - estimator_3 - 5_folds.test.predict)=96.12%\n",
      "[ 2019-03-26 21:42:31,862][cascade_classifier.calc_accuracy] Accuracy(layer_3 - train.classifier_average)=95.67%\n",
      "[ 2019-03-26 21:42:31,863][cascade_classifier.calc_accuracy] Accuracy(layer_3 - test.classifier_average)=96.16%\n",
      "[ 2019-03-26 21:42:31,880][cascade_classifier.fit_transform] [layer=4] look_indexs=[0], X_cur_train.shape=(40000, 308), X_cur_test.shape=(10000, 308)\n",
      "[ 2019-03-26 21:42:32,711][kfold_wrapper.log_eval_metrics] Accuracy(layer_4 - estimator_0 - 5_folds.train_0.predict)=95.73%\n",
      "[ 2019-03-26 21:42:33,518][kfold_wrapper.log_eval_metrics] Accuracy(layer_4 - estimator_0 - 5_folds.train_1.predict)=95.83%\n",
      "[ 2019-03-26 21:42:34,330][kfold_wrapper.log_eval_metrics] Accuracy(layer_4 - estimator_0 - 5_folds.train_2.predict)=95.78%\n",
      "[ 2019-03-26 21:42:35,140][kfold_wrapper.log_eval_metrics] Accuracy(layer_4 - estimator_0 - 5_folds.train_3.predict)=95.10%\n",
      "[ 2019-03-26 21:42:35,948][kfold_wrapper.log_eval_metrics] Accuracy(layer_4 - estimator_0 - 5_folds.train_4.predict)=95.47%\n",
      "[ 2019-03-26 21:42:35,959][kfold_wrapper.log_eval_metrics] Accuracy(layer_4 - estimator_0 - 5_folds.train_cv.predict)=95.58%\n",
      "[ 2019-03-26 21:42:35,960][kfold_wrapper.log_eval_metrics] Accuracy(layer_4 - estimator_0 - 5_folds.test.predict)=96.07%\n",
      "[ 2019-03-26 21:42:36,804][kfold_wrapper.log_eval_metrics] Accuracy(layer_4 - estimator_1 - 5_folds.train_0.predict)=95.18%\n",
      "[ 2019-03-26 21:42:37,730][kfold_wrapper.log_eval_metrics] Accuracy(layer_4 - estimator_1 - 5_folds.train_1.predict)=94.96%\n",
      "[ 2019-03-26 21:42:38,663][kfold_wrapper.log_eval_metrics] Accuracy(layer_4 - estimator_1 - 5_folds.train_2.predict)=95.33%\n",
      "[ 2019-03-26 21:42:39,620][kfold_wrapper.log_eval_metrics] Accuracy(layer_4 - estimator_1 - 5_folds.train_3.predict)=95.46%\n",
      "[ 2019-03-26 21:42:40,548][kfold_wrapper.log_eval_metrics] Accuracy(layer_4 - estimator_1 - 5_folds.train_4.predict)=95.42%\n",
      "[ 2019-03-26 21:42:40,661][kfold_wrapper.log_eval_metrics] Accuracy(layer_4 - estimator_1 - 5_folds.train_cv.predict)=95.27%\n",
      "[ 2019-03-26 21:42:40,664][kfold_wrapper.log_eval_metrics] Accuracy(layer_4 - estimator_1 - 5_folds.test.predict)=96.10%\n",
      "[ 2019-03-26 21:42:41,340][kfold_wrapper.log_eval_metrics] Accuracy(layer_4 - estimator_2 - 5_folds.train_0.predict)=95.46%\n",
      "[ 2019-03-26 21:42:41,989][kfold_wrapper.log_eval_metrics] Accuracy(layer_4 - estimator_2 - 5_folds.train_1.predict)=95.29%\n",
      "[ 2019-03-26 21:42:42,743][kfold_wrapper.log_eval_metrics] Accuracy(layer_4 - estimator_2 - 5_folds.train_2.predict)=95.46%\n",
      "[ 2019-03-26 21:42:43,499][kfold_wrapper.log_eval_metrics] Accuracy(layer_4 - estimator_2 - 5_folds.train_3.predict)=95.12%\n",
      "[ 2019-03-26 21:42:44,260][kfold_wrapper.log_eval_metrics] Accuracy(layer_4 - estimator_2 - 5_folds.train_4.predict)=95.45%\n",
      "[ 2019-03-26 21:42:44,366][kfold_wrapper.log_eval_metrics] Accuracy(layer_4 - estimator_2 - 5_folds.train_cv.predict)=95.36%\n",
      "[ 2019-03-26 21:42:44,370][kfold_wrapper.log_eval_metrics] Accuracy(layer_4 - estimator_2 - 5_folds.test.predict)=96.13%\n",
      "/home/mounika/anaconda3/lib/python3.6/site-packages/sklearn/linear_model/logistic.py:433: FutureWarning: Default solver will be changed to 'lbfgs' in 0.22. Specify a solver to silence this warning.\n",
      "  FutureWarning)\n",
      "[ 2019-03-26 21:42:45,327][kfold_wrapper.log_eval_metrics] Accuracy(layer_4 - estimator_3 - 5_folds.train_0.predict)=95.19%\n",
      "/home/mounika/anaconda3/lib/python3.6/site-packages/sklearn/linear_model/logistic.py:433: FutureWarning: Default solver will be changed to 'lbfgs' in 0.22. Specify a solver to silence this warning.\n",
      "  FutureWarning)\n",
      "[ 2019-03-26 21:42:46,456][kfold_wrapper.log_eval_metrics] Accuracy(layer_4 - estimator_3 - 5_folds.train_1.predict)=95.54%\n",
      "/home/mounika/anaconda3/lib/python3.6/site-packages/sklearn/linear_model/logistic.py:433: FutureWarning: Default solver will be changed to 'lbfgs' in 0.22. Specify a solver to silence this warning.\n",
      "  FutureWarning)\n",
      "[ 2019-03-26 21:42:47,463][kfold_wrapper.log_eval_metrics] Accuracy(layer_4 - estimator_3 - 5_folds.train_2.predict)=96.03%\n",
      "/home/mounika/anaconda3/lib/python3.6/site-packages/sklearn/linear_model/logistic.py:433: FutureWarning: Default solver will be changed to 'lbfgs' in 0.22. Specify a solver to silence this warning.\n",
      "  FutureWarning)\n",
      "[ 2019-03-26 21:42:48,451][kfold_wrapper.log_eval_metrics] Accuracy(layer_4 - estimator_3 - 5_folds.train_3.predict)=95.46%\n",
      "/home/mounika/anaconda3/lib/python3.6/site-packages/sklearn/linear_model/logistic.py:433: FutureWarning: Default solver will be changed to 'lbfgs' in 0.22. Specify a solver to silence this warning.\n",
      "  FutureWarning)\n",
      "[ 2019-03-26 21:42:49,437][kfold_wrapper.log_eval_metrics] Accuracy(layer_4 - estimator_3 - 5_folds.train_4.predict)=95.54%\n",
      "[ 2019-03-26 21:42:49,454][kfold_wrapper.log_eval_metrics] Accuracy(layer_4 - estimator_3 - 5_folds.train_cv.predict)=95.55%\n",
      "[ 2019-03-26 21:42:49,455][kfold_wrapper.log_eval_metrics] Accuracy(layer_4 - estimator_3 - 5_folds.test.predict)=96.15%\n"
     ]
    },
    {
     "name": "stderr",
     "output_type": "stream",
     "text": [
      "[ 2019-03-26 21:42:49,457][cascade_classifier.calc_accuracy] Accuracy(layer_4 - train.classifier_average)=95.64%\n",
      "[ 2019-03-26 21:42:49,457][cascade_classifier.calc_accuracy] Accuracy(layer_4 - test.classifier_average)=96.08%\n",
      "[ 2019-03-26 21:42:49,474][cascade_classifier.fit_transform] [layer=5] look_indexs=[0], X_cur_train.shape=(40000, 308), X_cur_test.shape=(10000, 308)\n",
      "[ 2019-03-26 21:42:50,301][kfold_wrapper.log_eval_metrics] Accuracy(layer_5 - estimator_0 - 5_folds.train_0.predict)=95.40%\n",
      "[ 2019-03-26 21:42:51,108][kfold_wrapper.log_eval_metrics] Accuracy(layer_5 - estimator_0 - 5_folds.train_1.predict)=95.58%\n",
      "[ 2019-03-26 21:42:51,932][kfold_wrapper.log_eval_metrics] Accuracy(layer_5 - estimator_0 - 5_folds.train_2.predict)=95.55%\n",
      "[ 2019-03-26 21:42:52,741][kfold_wrapper.log_eval_metrics] Accuracy(layer_5 - estimator_0 - 5_folds.train_3.predict)=95.62%\n",
      "[ 2019-03-26 21:42:53,552][kfold_wrapper.log_eval_metrics] Accuracy(layer_5 - estimator_0 - 5_folds.train_4.predict)=95.76%\n",
      "[ 2019-03-26 21:42:53,562][kfold_wrapper.log_eval_metrics] Accuracy(layer_5 - estimator_0 - 5_folds.train_cv.predict)=95.58%\n",
      "[ 2019-03-26 21:42:53,563][kfold_wrapper.log_eval_metrics] Accuracy(layer_5 - estimator_0 - 5_folds.test.predict)=96.07%\n",
      "[ 2019-03-26 21:42:54,407][kfold_wrapper.log_eval_metrics] Accuracy(layer_5 - estimator_1 - 5_folds.train_0.predict)=95.04%\n",
      "[ 2019-03-26 21:42:55,353][kfold_wrapper.log_eval_metrics] Accuracy(layer_5 - estimator_1 - 5_folds.train_1.predict)=95.39%\n",
      "[ 2019-03-26 21:42:56,291][kfold_wrapper.log_eval_metrics] Accuracy(layer_5 - estimator_1 - 5_folds.train_2.predict)=95.49%\n",
      "[ 2019-03-26 21:42:57,254][kfold_wrapper.log_eval_metrics] Accuracy(layer_5 - estimator_1 - 5_folds.train_3.predict)=95.02%\n",
      "[ 2019-03-26 21:42:58,216][kfold_wrapper.log_eval_metrics] Accuracy(layer_5 - estimator_1 - 5_folds.train_4.predict)=95.42%\n",
      "[ 2019-03-26 21:42:58,323][kfold_wrapper.log_eval_metrics] Accuracy(layer_5 - estimator_1 - 5_folds.train_cv.predict)=95.27%\n",
      "[ 2019-03-26 21:42:58,323][kfold_wrapper.log_eval_metrics] Accuracy(layer_5 - estimator_1 - 5_folds.test.predict)=96.17%\n",
      "[ 2019-03-26 21:42:58,856][kfold_wrapper.log_eval_metrics] Accuracy(layer_5 - estimator_2 - 5_folds.train_0.predict)=95.05%\n",
      "[ 2019-03-26 21:42:59,604][kfold_wrapper.log_eval_metrics] Accuracy(layer_5 - estimator_2 - 5_folds.train_1.predict)=95.53%\n",
      "[ 2019-03-26 21:43:00,362][kfold_wrapper.log_eval_metrics] Accuracy(layer_5 - estimator_2 - 5_folds.train_2.predict)=95.05%\n",
      "[ 2019-03-26 21:43:00,995][kfold_wrapper.log_eval_metrics] Accuracy(layer_5 - estimator_2 - 5_folds.train_3.predict)=95.25%\n",
      "[ 2019-03-26 21:43:01,722][kfold_wrapper.log_eval_metrics] Accuracy(layer_5 - estimator_2 - 5_folds.train_4.predict)=95.30%\n",
      "[ 2019-03-26 21:43:01,826][kfold_wrapper.log_eval_metrics] Accuracy(layer_5 - estimator_2 - 5_folds.train_cv.predict)=95.23%\n",
      "[ 2019-03-26 21:43:01,827][kfold_wrapper.log_eval_metrics] Accuracy(layer_5 - estimator_2 - 5_folds.test.predict)=96.21%\n",
      "/home/mounika/anaconda3/lib/python3.6/site-packages/sklearn/linear_model/logistic.py:433: FutureWarning: Default solver will be changed to 'lbfgs' in 0.22. Specify a solver to silence this warning.\n",
      "  FutureWarning)\n",
      "[ 2019-03-26 21:43:02,820][kfold_wrapper.log_eval_metrics] Accuracy(layer_5 - estimator_3 - 5_folds.train_0.predict)=95.83%\n",
      "/home/mounika/anaconda3/lib/python3.6/site-packages/sklearn/linear_model/logistic.py:433: FutureWarning: Default solver will be changed to 'lbfgs' in 0.22. Specify a solver to silence this warning.\n",
      "  FutureWarning)\n",
      "[ 2019-03-26 21:43:03,783][kfold_wrapper.log_eval_metrics] Accuracy(layer_5 - estimator_3 - 5_folds.train_1.predict)=95.78%\n",
      "/home/mounika/anaconda3/lib/python3.6/site-packages/sklearn/linear_model/logistic.py:433: FutureWarning: Default solver will be changed to 'lbfgs' in 0.22. Specify a solver to silence this warning.\n",
      "  FutureWarning)\n",
      "[ 2019-03-26 21:43:04,748][kfold_wrapper.log_eval_metrics] Accuracy(layer_5 - estimator_3 - 5_folds.train_2.predict)=95.61%\n",
      "/home/mounika/anaconda3/lib/python3.6/site-packages/sklearn/linear_model/logistic.py:433: FutureWarning: Default solver will be changed to 'lbfgs' in 0.22. Specify a solver to silence this warning.\n",
      "  FutureWarning)\n",
      "[ 2019-03-26 21:43:05,713][kfold_wrapper.log_eval_metrics] Accuracy(layer_5 - estimator_3 - 5_folds.train_3.predict)=95.26%\n",
      "/home/mounika/anaconda3/lib/python3.6/site-packages/sklearn/linear_model/logistic.py:433: FutureWarning: Default solver will be changed to 'lbfgs' in 0.22. Specify a solver to silence this warning.\n",
      "  FutureWarning)\n",
      "[ 2019-03-26 21:43:06,661][kfold_wrapper.log_eval_metrics] Accuracy(layer_5 - estimator_3 - 5_folds.train_4.predict)=95.54%\n",
      "[ 2019-03-26 21:43:06,675][kfold_wrapper.log_eval_metrics] Accuracy(layer_5 - estimator_3 - 5_folds.train_cv.predict)=95.60%\n",
      "[ 2019-03-26 21:43:06,679][kfold_wrapper.log_eval_metrics] Accuracy(layer_5 - estimator_3 - 5_folds.test.predict)=96.15%\n",
      "[ 2019-03-26 21:43:06,682][cascade_classifier.calc_accuracy] Accuracy(layer_5 - train.classifier_average)=95.62%\n",
      "[ 2019-03-26 21:43:06,691][cascade_classifier.calc_accuracy] Accuracy(layer_5 - test.classifier_average)=96.21%\n",
      "[ 2019-03-26 21:43:06,715][cascade_classifier.fit_transform] [layer=6] look_indexs=[0], X_cur_train.shape=(40000, 308), X_cur_test.shape=(10000, 308)\n",
      "[ 2019-03-26 21:43:07,539][kfold_wrapper.log_eval_metrics] Accuracy(layer_6 - estimator_0 - 5_folds.train_0.predict)=95.55%\n",
      "[ 2019-03-26 21:43:08,352][kfold_wrapper.log_eval_metrics] Accuracy(layer_6 - estimator_0 - 5_folds.train_1.predict)=95.51%\n",
      "[ 2019-03-26 21:43:09,225][kfold_wrapper.log_eval_metrics] Accuracy(layer_6 - estimator_0 - 5_folds.train_2.predict)=95.53%\n",
      "[ 2019-03-26 21:43:10,046][kfold_wrapper.log_eval_metrics] Accuracy(layer_6 - estimator_0 - 5_folds.train_3.predict)=95.45%\n",
      "[ 2019-03-26 21:43:10,859][kfold_wrapper.log_eval_metrics] Accuracy(layer_6 - estimator_0 - 5_folds.train_4.predict)=95.65%\n",
      "[ 2019-03-26 21:43:10,869][kfold_wrapper.log_eval_metrics] Accuracy(layer_6 - estimator_0 - 5_folds.train_cv.predict)=95.54%\n",
      "[ 2019-03-26 21:43:10,870][kfold_wrapper.log_eval_metrics] Accuracy(layer_6 - estimator_0 - 5_folds.test.predict)=96.11%\n",
      "[ 2019-03-26 21:43:11,718][kfold_wrapper.log_eval_metrics] Accuracy(layer_6 - estimator_1 - 5_folds.train_0.predict)=95.08%\n",
      "[ 2019-03-26 21:43:12,669][kfold_wrapper.log_eval_metrics] Accuracy(layer_6 - estimator_1 - 5_folds.train_1.predict)=95.31%\n",
      "[ 2019-03-26 21:43:13,707][kfold_wrapper.log_eval_metrics] Accuracy(layer_6 - estimator_1 - 5_folds.train_2.predict)=95.15%\n",
      "[ 2019-03-26 21:43:14,665][kfold_wrapper.log_eval_metrics] Accuracy(layer_6 - estimator_1 - 5_folds.train_3.predict)=95.39%\n",
      "[ 2019-03-26 21:43:15,625][kfold_wrapper.log_eval_metrics] Accuracy(layer_6 - estimator_1 - 5_folds.train_4.predict)=95.37%\n",
      "[ 2019-03-26 21:43:15,730][kfold_wrapper.log_eval_metrics] Accuracy(layer_6 - estimator_1 - 5_folds.train_cv.predict)=95.26%\n",
      "[ 2019-03-26 21:43:15,730][kfold_wrapper.log_eval_metrics] Accuracy(layer_6 - estimator_1 - 5_folds.test.predict)=96.14%\n",
      "[ 2019-03-26 21:43:16,265][kfold_wrapper.log_eval_metrics] Accuracy(layer_6 - estimator_2 - 5_folds.train_0.predict)=95.21%\n",
      "[ 2019-03-26 21:43:17,023][kfold_wrapper.log_eval_metrics] Accuracy(layer_6 - estimator_2 - 5_folds.train_1.predict)=95.06%\n",
      "[ 2019-03-26 21:43:17,780][kfold_wrapper.log_eval_metrics] Accuracy(layer_6 - estimator_2 - 5_folds.train_2.predict)=95.40%\n",
      "[ 2019-03-26 21:43:18,412][kfold_wrapper.log_eval_metrics] Accuracy(layer_6 - estimator_2 - 5_folds.train_3.predict)=95.56%\n",
      "[ 2019-03-26 21:43:19,046][kfold_wrapper.log_eval_metrics] Accuracy(layer_6 - estimator_2 - 5_folds.train_4.predict)=95.39%\n",
      "[ 2019-03-26 21:43:19,158][kfold_wrapper.log_eval_metrics] Accuracy(layer_6 - estimator_2 - 5_folds.train_cv.predict)=95.33%\n",
      "[ 2019-03-26 21:43:19,158][kfold_wrapper.log_eval_metrics] Accuracy(layer_6 - estimator_2 - 5_folds.test.predict)=96.10%\n",
      "/home/mounika/anaconda3/lib/python3.6/site-packages/sklearn/linear_model/logistic.py:433: FutureWarning: Default solver will be changed to 'lbfgs' in 0.22. Specify a solver to silence this warning.\n",
      "  FutureWarning)\n",
      "[ 2019-03-26 21:43:20,090][kfold_wrapper.log_eval_metrics] Accuracy(layer_6 - estimator_3 - 5_folds.train_0.predict)=95.78%\n"
     ]
    },
    {
     "name": "stderr",
     "output_type": "stream",
     "text": [
      "/home/mounika/anaconda3/lib/python3.6/site-packages/sklearn/linear_model/logistic.py:433: FutureWarning: Default solver will be changed to 'lbfgs' in 0.22. Specify a solver to silence this warning.\n",
      "  FutureWarning)\n",
      "[ 2019-03-26 21:43:21,078][kfold_wrapper.log_eval_metrics] Accuracy(layer_6 - estimator_3 - 5_folds.train_1.predict)=95.48%\n",
      "/home/mounika/anaconda3/lib/python3.6/site-packages/sklearn/linear_model/logistic.py:433: FutureWarning: Default solver will be changed to 'lbfgs' in 0.22. Specify a solver to silence this warning.\n",
      "  FutureWarning)\n",
      "[ 2019-03-26 21:43:22,043][kfold_wrapper.log_eval_metrics] Accuracy(layer_6 - estimator_3 - 5_folds.train_2.predict)=95.46%\n",
      "/home/mounika/anaconda3/lib/python3.6/site-packages/sklearn/linear_model/logistic.py:433: FutureWarning: Default solver will be changed to 'lbfgs' in 0.22. Specify a solver to silence this warning.\n",
      "  FutureWarning)\n",
      "[ 2019-03-26 21:43:23,062][kfold_wrapper.log_eval_metrics] Accuracy(layer_6 - estimator_3 - 5_folds.train_3.predict)=95.67%\n",
      "/home/mounika/anaconda3/lib/python3.6/site-packages/sklearn/linear_model/logistic.py:433: FutureWarning: Default solver will be changed to 'lbfgs' in 0.22. Specify a solver to silence this warning.\n",
      "  FutureWarning)\n",
      "[ 2019-03-26 21:43:24,026][kfold_wrapper.log_eval_metrics] Accuracy(layer_6 - estimator_3 - 5_folds.train_4.predict)=95.67%\n",
      "[ 2019-03-26 21:43:24,037][kfold_wrapper.log_eval_metrics] Accuracy(layer_6 - estimator_3 - 5_folds.train_cv.predict)=95.61%\n",
      "[ 2019-03-26 21:43:24,039][kfold_wrapper.log_eval_metrics] Accuracy(layer_6 - estimator_3 - 5_folds.test.predict)=96.19%\n",
      "[ 2019-03-26 21:43:24,043][cascade_classifier.calc_accuracy] Accuracy(layer_6 - train.classifier_average)=95.66%\n",
      "[ 2019-03-26 21:43:24,044][cascade_classifier.calc_accuracy] Accuracy(layer_6 - test.classifier_average)=96.20%\n",
      "[ 2019-03-26 21:43:24,044][cascade_classifier.fit_transform] [Result][Optimal Level Detected] opt_layer_num=4, accuracy_train=95.67%, accuracy_test=96.16%\n"
     ]
    }
   ],
   "source": [
    "X_train_enc = gc.fit_transform(x_train, y_train,X_test=x_test, y_test=y_test)\n",
    "#y_pred = gc.predict(x_test)"
   ]
  },
  {
   "cell_type": "code",
   "execution_count": 341,
   "metadata": {},
   "outputs": [
    {
     "name": "stderr",
     "output_type": "stream",
     "text": [
      "[ 2019-03-26 21:43:24,050][cascade_classifier.transform] X_groups_test.shape=[(10000, 300)]\n",
      "[ 2019-03-26 21:43:24,053][cascade_classifier.transform] group_dims=[300]\n",
      "[ 2019-03-26 21:43:24,053][cascade_classifier.transform] X_test.shape=(10000, 300)\n",
      "[ 2019-03-26 21:43:24,056][cascade_classifier.transform] [layer=0] look_indexs=[0], X_cur_test.shape=(10000, 300)\n",
      "[ 2019-03-26 21:43:25,287][cascade_classifier.transform] [layer=1] look_indexs=[0], X_cur_test.shape=(10000, 308)\n",
      "[ 2019-03-26 21:43:26,477][cascade_classifier.transform] [layer=2] look_indexs=[0], X_cur_test.shape=(10000, 308)\n",
      "[ 2019-03-26 21:43:27,633][cascade_classifier.transform] [layer=3] look_indexs=[0], X_cur_test.shape=(10000, 308)\n"
     ]
    }
   ],
   "source": [
    "y_pred = gc.predict(x_test)"
   ]
  },
  {
   "cell_type": "code",
   "execution_count": 342,
   "metadata": {},
   "outputs": [
    {
     "name": "stdout",
     "output_type": "stream",
     "text": [
      "              precision    recall  f1-score   support\n",
      "\n",
      "           0       0.96      0.97      0.96      5012\n",
      "           1       0.97      0.96      0.96      4988\n",
      "\n",
      "   micro avg       0.96      0.96      0.96     10000\n",
      "   macro avg       0.96      0.96      0.96     10000\n",
      "weighted avg       0.96      0.96      0.96     10000\n",
      "\n"
     ]
    }
   ],
   "source": [
    "print(classification_report(y_test,y_pred))"
   ]
  },
  {
   "cell_type": "code",
   "execution_count": 343,
   "metadata": {},
   "outputs": [],
   "source": [
    "import pickle\n",
    "pickle.dump(gc,open('/home/mounika/Desktop/Word-Embeddings/dranziera_protocol/GC_w2v/gc_w2v_Clothing_Accessories','wb'))"
   ]
  },
  {
   "cell_type": "code",
   "execution_count": null,
   "metadata": {},
   "outputs": [],
   "source": []
  }
 ],
 "metadata": {
  "kernelspec": {
   "display_name": "Python 3",
   "language": "python",
   "name": "python3"
  },
  "language_info": {
   "codemirror_mode": {
    "name": "ipython",
    "version": 3
   },
   "file_extension": ".py",
   "mimetype": "text/x-python",
   "name": "python",
   "nbconvert_exporter": "python",
   "pygments_lexer": "ipython3",
   "version": "3.6.8"
  }
 },
 "nbformat": 4,
 "nbformat_minor": 2
}
