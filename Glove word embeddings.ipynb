{
 "cells": [
  {
   "cell_type": "code",
   "execution_count": 1,
   "metadata": {},
   "outputs": [],
   "source": [
    "from gensim.test.utils import datapath, get_tmpfile\n",
    "from gensim.models import KeyedVectors\n",
    "glove_file = datapath('/home/mounika/Desktop/Word-Embeddings/dranziera_protocol/glove.42B.300d.txt')\n",
    "tmp_file = get_tmpfile(\"glove.42B.300d_word2vec.txt\")\n",
    "from gensim.scripts.glove2word2vec import glove2word2vec\n",
    "glove2word2vec(glove_file, tmp_file)\n",
    "model = KeyedVectors.load_word2vec_format(tmp_file)"
   ]
  },
  {
   "cell_type": "code",
   "execution_count": 1,
   "metadata": {},
   "outputs": [],
   "source": [
    "import pandas as pd\n",
    "import numpy as np"
   ]
  },
  {
   "cell_type": "code",
   "execution_count": 3,
   "metadata": {},
   "outputs": [],
   "source": [
    "import spacy\n",
    "nlp = spacy.load('en_core_web_sm')"
   ]
  },
  {
   "cell_type": "code",
   "execution_count": 4,
   "metadata": {},
   "outputs": [],
   "source": [
    "def glove_features(data):\n",
    "    x_hk_w2 = []\n",
    "    for i in data:\n",
    "        tokens = nlp(i)\n",
    "        temp = []\n",
    "        for token in tokens:\n",
    "            try:\n",
    "                temp.append(model[str(token).lower()])\n",
    "            except:\n",
    "                continue\n",
    "        temp = np.array(temp)\n",
    "        if temp.size==0:\n",
    "            temp = np.zeros([1,300])\n",
    "        #print(temp.shape)\n",
    "        x_hk_w2.append(np.average(temp,axis=0))\n",
    "    x_hk_w2 = np.array(x_hk_w2)\n",
    "    print(x_hk_w2.shape)\n",
    "    return x_hk_w2"
   ]
  },
  {
   "cell_type": "code",
   "execution_count": 25,
   "metadata": {},
   "outputs": [],
   "source": [
    "fp = open('./Video_Games/OnlyText.txt','r')\n",
    "lines = fp.readlines()"
   ]
  },
  {
   "cell_type": "code",
   "execution_count": 26,
   "metadata": {},
   "outputs": [],
   "source": [
    "text_data = []\n",
    "for line in lines:\n",
    "    text_data.append(line.strip('\\n'))"
   ]
  },
  {
   "cell_type": "code",
   "execution_count": 27,
   "metadata": {},
   "outputs": [
    {
     "name": "stdout",
     "output_type": "stream",
     "text": [
      "50000\n"
     ]
    }
   ],
   "source": [
    "print(len(text_data))"
   ]
  },
  {
   "cell_type": "code",
   "execution_count": 28,
   "metadata": {},
   "outputs": [
    {
     "name": "stdout",
     "output_type": "stream",
     "text": [
      "(50000, 300)\n"
     ]
    }
   ],
   "source": [
    "x_features_hk_glove = glove_features(text_data)"
   ]
  },
  {
   "cell_type": "code",
   "execution_count": 29,
   "metadata": {},
   "outputs": [],
   "source": [
    "np.save('/home/mounika/Desktop/Word-Embeddings/dranziera_protocol/GLOVE_features/Video_Games_glove.npy',x_features_hk_glove)"
   ]
  },
  {
   "cell_type": "code",
   "execution_count": null,
   "metadata": {},
   "outputs": [],
   "source": []
  },
  {
   "cell_type": "code",
   "execution_count": 257,
   "metadata": {},
   "outputs": [],
   "source": [
    "x_features = np.load('./GLOVE_features/Video_Games_glove.npy')"
   ]
  },
  {
   "cell_type": "code",
   "execution_count": 258,
   "metadata": {},
   "outputs": [],
   "source": [
    "labels = pd.read_csv('./Video_Games/polarity.txt',header=None)"
   ]
  },
  {
   "cell_type": "code",
   "execution_count": 259,
   "metadata": {},
   "outputs": [
    {
     "data": {
      "text/plain": [
       "(50000, 1)"
      ]
     },
     "execution_count": 259,
     "metadata": {},
     "output_type": "execute_result"
    }
   ],
   "source": [
    "labels.shape"
   ]
  },
  {
   "cell_type": "code",
   "execution_count": 260,
   "metadata": {},
   "outputs": [],
   "source": [
    "y = []\n",
    "for i in labels[0]:\n",
    "    if i=='positive':\n",
    "        y.append(1)\n",
    "    else:\n",
    "        y.append(0)"
   ]
  },
  {
   "cell_type": "code",
   "execution_count": 261,
   "metadata": {},
   "outputs": [],
   "source": [
    "y = np.array(y)"
   ]
  },
  {
   "cell_type": "code",
   "execution_count": 262,
   "metadata": {},
   "outputs": [
    {
     "name": "stdout",
     "output_type": "stream",
     "text": [
      "(50000, 300)\n",
      "(50000,)\n"
     ]
    }
   ],
   "source": [
    "print(x_features.shape)\n",
    "print(y.shape)"
   ]
  },
  {
   "cell_type": "code",
   "execution_count": null,
   "metadata": {},
   "outputs": [],
   "source": []
  },
  {
   "cell_type": "code",
   "execution_count": 263,
   "metadata": {},
   "outputs": [],
   "source": [
    "from sklearn.model_selection import train_test_split,cross_val_score\n",
    "from sklearn.metrics import classification_report,confusion_matrix\n",
    "x_train,x_test,y_train,y_test = train_test_split(x_features,y,test_size=0.2,random_state=47)"
   ]
  },
  {
   "cell_type": "code",
   "execution_count": 264,
   "metadata": {},
   "outputs": [],
   "source": [
    "from gcforest.gcforest import GCForest\n",
    "from gcforest.utils.config_utils import load_json\n",
    "import argparse"
   ]
  },
  {
   "cell_type": "code",
   "execution_count": 265,
   "metadata": {},
   "outputs": [],
   "source": [
    "\n",
    "def parse_args():\n",
    "    parser = argparse.ArgumentParser()\n",
    "    parser.add_argument(\"--model\", dest=\"model\", type=str, default=None, help=\"gcfoest Net Model File\")\n",
    "    args = parser.parse_args()\n",
    "    return args\n",
    "\n",
    "\n",
    "def get_toy_config():\n",
    "    config = {}\n",
    "    ca_config = {}\n",
    "    ca_config[\"random_state\"] = 0\n",
    "    ca_config[\"max_layers\"] = 100\n",
    "    ca_config[\"early_stopping_rounds\"] = 3\n",
    "    ca_config[\"n_classes\"] = 2\n",
    "    ca_config[\"estimators\"] = []\n",
    "    ca_config[\"estimators\"].append(\n",
    "            {\"n_folds\": 5, \"type\": \"LGBClassifier\", \"n_estimators\": 10, \"max_depth\": 5,\n",
    "             \"objective\": \"binary\", \"silent\": True, \"nthread\": 5, \"learning_rate\": 0.1} )\n",
    "    ca_config[\"estimators\"].append({\"n_folds\": 5, \"type\": \"RandomForestClassifier\", \"n_estimators\": 10, \"max_depth\": None, \"n_jobs\": -1})\n",
    "    ca_config[\"estimators\"].append({\"n_folds\": 5, \"type\": \"ExtraTreesClassifier\", \"n_estimators\": 10, \"max_depth\": None, \"n_jobs\": -1})\n",
    "    ca_config[\"estimators\"].append({\"n_folds\": 5, \"type\": \"LogisticRegression\"}),\n",
    "    #ca_config[\"estimators\"].append({\"n_folds\": 5, \"type\": \"GradientBoostingClassifier\"})\n",
    "    config[\"cascade\"] = ca_config\n",
    "    return config"
   ]
  },
  {
   "cell_type": "code",
   "execution_count": 266,
   "metadata": {},
   "outputs": [],
   "source": [
    "config = get_toy_config()\n",
    "gc = GCForest(config)"
   ]
  },
  {
   "cell_type": "code",
   "execution_count": 267,
   "metadata": {},
   "outputs": [
    {
     "data": {
      "text/plain": [
       "{'cascade': {'random_state': 0,\n",
       "  'max_layers': 100,\n",
       "  'early_stopping_rounds': 3,\n",
       "  'n_classes': 2,\n",
       "  'estimators': [{'n_folds': 5,\n",
       "    'type': 'LGBClassifier',\n",
       "    'n_estimators': 10,\n",
       "    'max_depth': 5,\n",
       "    'objective': 'binary',\n",
       "    'silent': True,\n",
       "    'nthread': 5,\n",
       "    'learning_rate': 0.1},\n",
       "   {'n_folds': 5,\n",
       "    'type': 'RandomForestClassifier',\n",
       "    'n_estimators': 10,\n",
       "    'max_depth': None,\n",
       "    'n_jobs': -1},\n",
       "   {'n_folds': 5,\n",
       "    'type': 'ExtraTreesClassifier',\n",
       "    'n_estimators': 10,\n",
       "    'max_depth': None,\n",
       "    'n_jobs': -1},\n",
       "   {'n_folds': 5, 'type': 'LogisticRegression'}]}}"
      ]
     },
     "execution_count": 267,
     "metadata": {},
     "output_type": "execute_result"
    }
   ],
   "source": [
    "gc.config"
   ]
  },
  {
   "cell_type": "code",
   "execution_count": 268,
   "metadata": {},
   "outputs": [
    {
     "name": "stderr",
     "output_type": "stream",
     "text": [
      "[ 2019-03-27 20:02:39,278][cascade_classifier.fit_transform] X_groups_train.shape=[(40000, 300)],y_train.shape=(40000,),X_groups_test.shape=[(10000, 300)],y_test.shape=(10000,)\n",
      "[ 2019-03-27 20:02:39,322][cascade_classifier.fit_transform] group_dims=[300]\n",
      "[ 2019-03-27 20:02:39,323][cascade_classifier.fit_transform] group_starts=[0]\n",
      "[ 2019-03-27 20:02:39,323][cascade_classifier.fit_transform] group_ends=[300]\n",
      "[ 2019-03-27 20:02:39,324][cascade_classifier.fit_transform] X_train.shape=(40000, 300),X_test.shape=(10000, 300)\n",
      "[ 2019-03-27 20:02:39,368][cascade_classifier.fit_transform] [layer=0] look_indexs=[0], X_cur_train.shape=(40000, 300), X_cur_test.shape=(10000, 300)\n",
      "[ 2019-03-27 20:02:40,107][kfold_wrapper.log_eval_metrics] Accuracy(layer_0 - estimator_0 - 5_folds.train_0.predict)=74.63%\n",
      "[ 2019-03-27 20:02:40,831][kfold_wrapper.log_eval_metrics] Accuracy(layer_0 - estimator_0 - 5_folds.train_1.predict)=74.30%\n",
      "[ 2019-03-27 20:02:41,544][kfold_wrapper.log_eval_metrics] Accuracy(layer_0 - estimator_0 - 5_folds.train_2.predict)=74.15%\n",
      "[ 2019-03-27 20:02:42,258][kfold_wrapper.log_eval_metrics] Accuracy(layer_0 - estimator_0 - 5_folds.train_3.predict)=73.70%\n",
      "[ 2019-03-27 20:02:42,974][kfold_wrapper.log_eval_metrics] Accuracy(layer_0 - estimator_0 - 5_folds.train_4.predict)=74.31%\n",
      "[ 2019-03-27 20:02:42,994][kfold_wrapper.log_eval_metrics] Accuracy(layer_0 - estimator_0 - 5_folds.train_cv.predict)=74.22%\n",
      "[ 2019-03-27 20:02:42,995][kfold_wrapper.log_eval_metrics] Accuracy(layer_0 - estimator_0 - 5_folds.test.predict)=75.18%\n",
      "[ 2019-03-27 20:02:44,183][kfold_wrapper.log_eval_metrics] Accuracy(layer_0 - estimator_1 - 5_folds.train_0.predict)=72.17%\n",
      "[ 2019-03-27 20:02:45,511][kfold_wrapper.log_eval_metrics] Accuracy(layer_0 - estimator_1 - 5_folds.train_1.predict)=72.75%\n",
      "[ 2019-03-27 20:02:46,839][kfold_wrapper.log_eval_metrics] Accuracy(layer_0 - estimator_1 - 5_folds.train_2.predict)=72.47%\n",
      "[ 2019-03-27 20:02:48,158][kfold_wrapper.log_eval_metrics] Accuracy(layer_0 - estimator_1 - 5_folds.train_3.predict)=71.93%\n",
      "[ 2019-03-27 20:02:49,476][kfold_wrapper.log_eval_metrics] Accuracy(layer_0 - estimator_1 - 5_folds.train_4.predict)=72.82%\n",
      "[ 2019-03-27 20:02:49,595][kfold_wrapper.log_eval_metrics] Accuracy(layer_0 - estimator_1 - 5_folds.train_cv.predict)=72.43%\n",
      "[ 2019-03-27 20:02:49,598][kfold_wrapper.log_eval_metrics] Accuracy(layer_0 - estimator_1 - 5_folds.test.predict)=77.90%\n",
      "[ 2019-03-27 20:02:50,215][kfold_wrapper.log_eval_metrics] Accuracy(layer_0 - estimator_2 - 5_folds.train_0.predict)=70.94%\n",
      "[ 2019-03-27 20:02:50,946][kfold_wrapper.log_eval_metrics] Accuracy(layer_0 - estimator_2 - 5_folds.train_1.predict)=70.53%\n",
      "[ 2019-03-27 20:02:51,686][kfold_wrapper.log_eval_metrics] Accuracy(layer_0 - estimator_2 - 5_folds.train_2.predict)=70.62%\n",
      "[ 2019-03-27 20:02:52,413][kfold_wrapper.log_eval_metrics] Accuracy(layer_0 - estimator_2 - 5_folds.train_3.predict)=70.51%\n",
      "[ 2019-03-27 20:02:53,142][kfold_wrapper.log_eval_metrics] Accuracy(layer_0 - estimator_2 - 5_folds.train_4.predict)=71.13%\n",
      "[ 2019-03-27 20:02:53,263][kfold_wrapper.log_eval_metrics] Accuracy(layer_0 - estimator_2 - 5_folds.train_cv.predict)=70.75%\n",
      "[ 2019-03-27 20:02:53,266][kfold_wrapper.log_eval_metrics] Accuracy(layer_0 - estimator_2 - 5_folds.test.predict)=76.99%\n",
      "/home/mounika/anaconda3/lib/python3.6/site-packages/sklearn/linear_model/logistic.py:433: FutureWarning: Default solver will be changed to 'lbfgs' in 0.22. Specify a solver to silence this warning.\n",
      "  FutureWarning)\n",
      "[ 2019-03-27 20:02:55,668][kfold_wrapper.log_eval_metrics] Accuracy(layer_0 - estimator_3 - 5_folds.train_0.predict)=82.94%\n",
      "/home/mounika/anaconda3/lib/python3.6/site-packages/sklearn/linear_model/logistic.py:433: FutureWarning: Default solver will be changed to 'lbfgs' in 0.22. Specify a solver to silence this warning.\n",
      "  FutureWarning)\n",
      "[ 2019-03-27 20:02:58,029][kfold_wrapper.log_eval_metrics] Accuracy(layer_0 - estimator_3 - 5_folds.train_1.predict)=83.01%\n",
      "/home/mounika/anaconda3/lib/python3.6/site-packages/sklearn/linear_model/logistic.py:433: FutureWarning: Default solver will be changed to 'lbfgs' in 0.22. Specify a solver to silence this warning.\n",
      "  FutureWarning)\n",
      "[ 2019-03-27 20:03:00,375][kfold_wrapper.log_eval_metrics] Accuracy(layer_0 - estimator_3 - 5_folds.train_2.predict)=83.80%\n",
      "/home/mounika/anaconda3/lib/python3.6/site-packages/sklearn/linear_model/logistic.py:433: FutureWarning: Default solver will be changed to 'lbfgs' in 0.22. Specify a solver to silence this warning.\n",
      "  FutureWarning)\n",
      "[ 2019-03-27 20:03:02,827][kfold_wrapper.log_eval_metrics] Accuracy(layer_0 - estimator_3 - 5_folds.train_3.predict)=83.90%\n",
      "/home/mounika/anaconda3/lib/python3.6/site-packages/sklearn/linear_model/logistic.py:433: FutureWarning: Default solver will be changed to 'lbfgs' in 0.22. Specify a solver to silence this warning.\n",
      "  FutureWarning)\n",
      "[ 2019-03-27 20:03:05,187][kfold_wrapper.log_eval_metrics] Accuracy(layer_0 - estimator_3 - 5_folds.train_4.predict)=83.29%\n",
      "[ 2019-03-27 20:03:05,200][kfold_wrapper.log_eval_metrics] Accuracy(layer_0 - estimator_3 - 5_folds.train_cv.predict)=83.39%\n",
      "[ 2019-03-27 20:03:05,201][kfold_wrapper.log_eval_metrics] Accuracy(layer_0 - estimator_3 - 5_folds.test.predict)=82.66%\n",
      "[ 2019-03-27 20:03:05,204][cascade_classifier.calc_accuracy] Accuracy(layer_0 - train.classifier_average)=81.02%\n",
      "[ 2019-03-27 20:03:05,205][cascade_classifier.calc_accuracy] Accuracy(layer_0 - test.classifier_average)=81.66%\n",
      "[ 2019-03-27 20:03:05,262][cascade_classifier.fit_transform] [layer=1] look_indexs=[0], X_cur_train.shape=(40000, 308), X_cur_test.shape=(10000, 308)\n",
      "[ 2019-03-27 20:03:05,955][kfold_wrapper.log_eval_metrics] Accuracy(layer_1 - estimator_0 - 5_folds.train_0.predict)=83.58%\n",
      "[ 2019-03-27 20:03:06,653][kfold_wrapper.log_eval_metrics] Accuracy(layer_1 - estimator_0 - 5_folds.train_1.predict)=83.76%\n",
      "[ 2019-03-27 20:03:07,349][kfold_wrapper.log_eval_metrics] Accuracy(layer_1 - estimator_0 - 5_folds.train_2.predict)=83.39%\n",
      "[ 2019-03-27 20:03:08,072][kfold_wrapper.log_eval_metrics] Accuracy(layer_1 - estimator_0 - 5_folds.train_3.predict)=83.21%\n",
      "[ 2019-03-27 20:03:08,780][kfold_wrapper.log_eval_metrics] Accuracy(layer_1 - estimator_0 - 5_folds.train_4.predict)=83.45%\n",
      "[ 2019-03-27 20:03:08,801][kfold_wrapper.log_eval_metrics] Accuracy(layer_1 - estimator_0 - 5_folds.train_cv.predict)=83.48%\n",
      "[ 2019-03-27 20:03:08,802][kfold_wrapper.log_eval_metrics] Accuracy(layer_1 - estimator_0 - 5_folds.test.predict)=82.83%\n",
      "[ 2019-03-27 20:03:10,090][kfold_wrapper.log_eval_metrics] Accuracy(layer_1 - estimator_1 - 5_folds.train_0.predict)=81.89%\n",
      "[ 2019-03-27 20:03:11,498][kfold_wrapper.log_eval_metrics] Accuracy(layer_1 - estimator_1 - 5_folds.train_1.predict)=81.99%\n",
      "[ 2019-03-27 20:03:12,905][kfold_wrapper.log_eval_metrics] Accuracy(layer_1 - estimator_1 - 5_folds.train_2.predict)=81.44%\n",
      "[ 2019-03-27 20:03:14,308][kfold_wrapper.log_eval_metrics] Accuracy(layer_1 - estimator_1 - 5_folds.train_3.predict)=81.79%\n",
      "[ 2019-03-27 20:03:15,714][kfold_wrapper.log_eval_metrics] Accuracy(layer_1 - estimator_1 - 5_folds.train_4.predict)=81.24%\n",
      "[ 2019-03-27 20:03:15,832][kfold_wrapper.log_eval_metrics] Accuracy(layer_1 - estimator_1 - 5_folds.train_cv.predict)=81.67%\n",
      "[ 2019-03-27 20:03:15,835][kfold_wrapper.log_eval_metrics] Accuracy(layer_1 - estimator_1 - 5_folds.test.predict)=82.92%\n",
      "[ 2019-03-27 20:03:16,532][kfold_wrapper.log_eval_metrics] Accuracy(layer_1 - estimator_2 - 5_folds.train_0.predict)=81.01%\n",
      "[ 2019-03-27 20:03:17,343][kfold_wrapper.log_eval_metrics] Accuracy(layer_1 - estimator_2 - 5_folds.train_1.predict)=81.53%\n",
      "[ 2019-03-27 20:03:18,161][kfold_wrapper.log_eval_metrics] Accuracy(layer_1 - estimator_2 - 5_folds.train_2.predict)=81.00%\n",
      "[ 2019-03-27 20:03:18,984][kfold_wrapper.log_eval_metrics] Accuracy(layer_1 - estimator_2 - 5_folds.train_3.predict)=81.45%\n",
      "[ 2019-03-27 20:03:19,817][kfold_wrapper.log_eval_metrics] Accuracy(layer_1 - estimator_2 - 5_folds.train_4.predict)=81.49%\n",
      "[ 2019-03-27 20:03:19,938][kfold_wrapper.log_eval_metrics] Accuracy(layer_1 - estimator_2 - 5_folds.train_cv.predict)=81.30%\n",
      "[ 2019-03-27 20:03:19,941][kfold_wrapper.log_eval_metrics] Accuracy(layer_1 - estimator_2 - 5_folds.test.predict)=82.79%\n",
      "/home/mounika/anaconda3/lib/python3.6/site-packages/sklearn/linear_model/logistic.py:433: FutureWarning: Default solver will be changed to 'lbfgs' in 0.22. Specify a solver to silence this warning.\n",
      "  FutureWarning)\n"
     ]
    },
    {
     "name": "stderr",
     "output_type": "stream",
     "text": [
      "[ 2019-03-27 20:03:21,991][kfold_wrapper.log_eval_metrics] Accuracy(layer_1 - estimator_3 - 5_folds.train_0.predict)=83.65%\n",
      "/home/mounika/anaconda3/lib/python3.6/site-packages/sklearn/linear_model/logistic.py:433: FutureWarning: Default solver will be changed to 'lbfgs' in 0.22. Specify a solver to silence this warning.\n",
      "  FutureWarning)\n",
      "[ 2019-03-27 20:03:23,817][kfold_wrapper.log_eval_metrics] Accuracy(layer_1 - estimator_3 - 5_folds.train_1.predict)=82.91%\n",
      "/home/mounika/anaconda3/lib/python3.6/site-packages/sklearn/linear_model/logistic.py:433: FutureWarning: Default solver will be changed to 'lbfgs' in 0.22. Specify a solver to silence this warning.\n",
      "  FutureWarning)\n",
      "[ 2019-03-27 20:03:25,959][kfold_wrapper.log_eval_metrics] Accuracy(layer_1 - estimator_3 - 5_folds.train_2.predict)=83.97%\n",
      "/home/mounika/anaconda3/lib/python3.6/site-packages/sklearn/linear_model/logistic.py:433: FutureWarning: Default solver will be changed to 'lbfgs' in 0.22. Specify a solver to silence this warning.\n",
      "  FutureWarning)\n",
      "[ 2019-03-27 20:03:28,124][kfold_wrapper.log_eval_metrics] Accuracy(layer_1 - estimator_3 - 5_folds.train_3.predict)=83.04%\n",
      "/home/mounika/anaconda3/lib/python3.6/site-packages/sklearn/linear_model/logistic.py:433: FutureWarning: Default solver will be changed to 'lbfgs' in 0.22. Specify a solver to silence this warning.\n",
      "  FutureWarning)\n",
      "[ 2019-03-27 20:03:30,023][kfold_wrapper.log_eval_metrics] Accuracy(layer_1 - estimator_3 - 5_folds.train_4.predict)=83.39%\n",
      "[ 2019-03-27 20:03:30,032][kfold_wrapper.log_eval_metrics] Accuracy(layer_1 - estimator_3 - 5_folds.train_cv.predict)=83.39%\n",
      "[ 2019-03-27 20:03:30,033][kfold_wrapper.log_eval_metrics] Accuracy(layer_1 - estimator_3 - 5_folds.test.predict)=82.82%\n",
      "[ 2019-03-27 20:03:30,035][cascade_classifier.calc_accuracy] Accuracy(layer_1 - train.classifier_average)=83.70%\n",
      "[ 2019-03-27 20:03:30,036][cascade_classifier.calc_accuracy] Accuracy(layer_1 - test.classifier_average)=83.17%\n",
      "[ 2019-03-27 20:03:30,089][cascade_classifier.fit_transform] [layer=2] look_indexs=[0], X_cur_train.shape=(40000, 308), X_cur_test.shape=(10000, 308)\n",
      "[ 2019-03-27 20:03:30,798][kfold_wrapper.log_eval_metrics] Accuracy(layer_2 - estimator_0 - 5_folds.train_0.predict)=83.54%\n",
      "[ 2019-03-27 20:03:31,492][kfold_wrapper.log_eval_metrics] Accuracy(layer_2 - estimator_0 - 5_folds.train_1.predict)=83.58%\n",
      "[ 2019-03-27 20:03:32,192][kfold_wrapper.log_eval_metrics] Accuracy(layer_2 - estimator_0 - 5_folds.train_2.predict)=83.33%\n",
      "[ 2019-03-27 20:03:32,890][kfold_wrapper.log_eval_metrics] Accuracy(layer_2 - estimator_0 - 5_folds.train_3.predict)=84.26%\n",
      "[ 2019-03-27 20:03:33,585][kfold_wrapper.log_eval_metrics] Accuracy(layer_2 - estimator_0 - 5_folds.train_4.predict)=83.69%\n",
      "[ 2019-03-27 20:03:33,603][kfold_wrapper.log_eval_metrics] Accuracy(layer_2 - estimator_0 - 5_folds.train_cv.predict)=83.68%\n",
      "[ 2019-03-27 20:03:33,604][kfold_wrapper.log_eval_metrics] Accuracy(layer_2 - estimator_0 - 5_folds.test.predict)=83.11%\n",
      "[ 2019-03-27 20:03:34,997][kfold_wrapper.log_eval_metrics] Accuracy(layer_2 - estimator_1 - 5_folds.train_0.predict)=81.71%\n",
      "[ 2019-03-27 20:03:36,528][kfold_wrapper.log_eval_metrics] Accuracy(layer_2 - estimator_1 - 5_folds.train_1.predict)=82.06%\n",
      "[ 2019-03-27 20:03:37,937][kfold_wrapper.log_eval_metrics] Accuracy(layer_2 - estimator_1 - 5_folds.train_2.predict)=82.15%\n",
      "[ 2019-03-27 20:03:39,356][kfold_wrapper.log_eval_metrics] Accuracy(layer_2 - estimator_1 - 5_folds.train_3.predict)=82.67%\n",
      "[ 2019-03-27 20:03:40,767][kfold_wrapper.log_eval_metrics] Accuracy(layer_2 - estimator_1 - 5_folds.train_4.predict)=81.36%\n",
      "[ 2019-03-27 20:03:40,886][kfold_wrapper.log_eval_metrics] Accuracy(layer_2 - estimator_1 - 5_folds.train_cv.predict)=81.99%\n",
      "[ 2019-03-27 20:03:40,890][kfold_wrapper.log_eval_metrics] Accuracy(layer_2 - estimator_1 - 5_folds.test.predict)=82.83%\n",
      "[ 2019-03-27 20:03:41,597][kfold_wrapper.log_eval_metrics] Accuracy(layer_2 - estimator_2 - 5_folds.train_0.predict)=82.26%\n",
      "[ 2019-03-27 20:03:42,431][kfold_wrapper.log_eval_metrics] Accuracy(layer_2 - estimator_2 - 5_folds.train_1.predict)=81.61%\n",
      "[ 2019-03-27 20:03:43,270][kfold_wrapper.log_eval_metrics] Accuracy(layer_2 - estimator_2 - 5_folds.train_2.predict)=82.67%\n",
      "[ 2019-03-27 20:03:44,105][kfold_wrapper.log_eval_metrics] Accuracy(layer_2 - estimator_2 - 5_folds.train_3.predict)=82.85%\n",
      "[ 2019-03-27 20:03:44,918][kfold_wrapper.log_eval_metrics] Accuracy(layer_2 - estimator_2 - 5_folds.train_4.predict)=82.87%\n",
      "[ 2019-03-27 20:03:45,032][kfold_wrapper.log_eval_metrics] Accuracy(layer_2 - estimator_2 - 5_folds.train_cv.predict)=82.45%\n",
      "[ 2019-03-27 20:03:45,034][kfold_wrapper.log_eval_metrics] Accuracy(layer_2 - estimator_2 - 5_folds.test.predict)=82.89%\n",
      "/home/mounika/anaconda3/lib/python3.6/site-packages/sklearn/linear_model/logistic.py:433: FutureWarning: Default solver will be changed to 'lbfgs' in 0.22. Specify a solver to silence this warning.\n",
      "  FutureWarning)\n",
      "[ 2019-03-27 20:03:47,167][kfold_wrapper.log_eval_metrics] Accuracy(layer_2 - estimator_3 - 5_folds.train_0.predict)=83.84%\n",
      "/home/mounika/anaconda3/lib/python3.6/site-packages/sklearn/linear_model/logistic.py:433: FutureWarning: Default solver will be changed to 'lbfgs' in 0.22. Specify a solver to silence this warning.\n",
      "  FutureWarning)\n",
      "[ 2019-03-27 20:03:49,198][kfold_wrapper.log_eval_metrics] Accuracy(layer_2 - estimator_3 - 5_folds.train_1.predict)=83.06%\n",
      "/home/mounika/anaconda3/lib/python3.6/site-packages/sklearn/linear_model/logistic.py:433: FutureWarning: Default solver will be changed to 'lbfgs' in 0.22. Specify a solver to silence this warning.\n",
      "  FutureWarning)\n",
      "[ 2019-03-27 20:03:51,384][kfold_wrapper.log_eval_metrics] Accuracy(layer_2 - estimator_3 - 5_folds.train_2.predict)=83.93%\n",
      "/home/mounika/anaconda3/lib/python3.6/site-packages/sklearn/linear_model/logistic.py:433: FutureWarning: Default solver will be changed to 'lbfgs' in 0.22. Specify a solver to silence this warning.\n",
      "  FutureWarning)\n",
      "[ 2019-03-27 20:03:53,531][kfold_wrapper.log_eval_metrics] Accuracy(layer_2 - estimator_3 - 5_folds.train_3.predict)=83.37%\n",
      "/home/mounika/anaconda3/lib/python3.6/site-packages/sklearn/linear_model/logistic.py:433: FutureWarning: Default solver will be changed to 'lbfgs' in 0.22. Specify a solver to silence this warning.\n",
      "  FutureWarning)\n",
      "[ 2019-03-27 20:03:55,595][kfold_wrapper.log_eval_metrics] Accuracy(layer_2 - estimator_3 - 5_folds.train_4.predict)=84.29%\n",
      "[ 2019-03-27 20:03:55,608][kfold_wrapper.log_eval_metrics] Accuracy(layer_2 - estimator_3 - 5_folds.train_cv.predict)=83.70%\n",
      "[ 2019-03-27 20:03:55,610][kfold_wrapper.log_eval_metrics] Accuracy(layer_2 - estimator_3 - 5_folds.test.predict)=83.13%\n",
      "[ 2019-03-27 20:03:55,612][cascade_classifier.calc_accuracy] Accuracy(layer_2 - train.classifier_average)=83.77%\n",
      "[ 2019-03-27 20:03:55,613][cascade_classifier.calc_accuracy] Accuracy(layer_2 - test.classifier_average)=83.24%\n",
      "[ 2019-03-27 20:03:55,669][cascade_classifier.fit_transform] [layer=3] look_indexs=[0], X_cur_train.shape=(40000, 308), X_cur_test.shape=(10000, 308)\n",
      "[ 2019-03-27 20:03:56,372][kfold_wrapper.log_eval_metrics] Accuracy(layer_3 - estimator_0 - 5_folds.train_0.predict)=83.64%\n",
      "[ 2019-03-27 20:03:57,075][kfold_wrapper.log_eval_metrics] Accuracy(layer_3 - estimator_0 - 5_folds.train_1.predict)=83.78%\n",
      "[ 2019-03-27 20:03:57,784][kfold_wrapper.log_eval_metrics] Accuracy(layer_3 - estimator_0 - 5_folds.train_2.predict)=83.25%\n",
      "[ 2019-03-27 20:03:58,490][kfold_wrapper.log_eval_metrics] Accuracy(layer_3 - estimator_0 - 5_folds.train_3.predict)=83.74%\n",
      "[ 2019-03-27 20:03:59,197][kfold_wrapper.log_eval_metrics] Accuracy(layer_3 - estimator_0 - 5_folds.train_4.predict)=84.07%\n",
      "[ 2019-03-27 20:03:59,217][kfold_wrapper.log_eval_metrics] Accuracy(layer_3 - estimator_0 - 5_folds.train_cv.predict)=83.69%\n",
      "[ 2019-03-27 20:03:59,218][kfold_wrapper.log_eval_metrics] Accuracy(layer_3 - estimator_0 - 5_folds.test.predict)=83.11%\n",
      "[ 2019-03-27 20:04:00,618][kfold_wrapper.log_eval_metrics] Accuracy(layer_3 - estimator_1 - 5_folds.train_0.predict)=81.64%\n",
      "[ 2019-03-27 20:04:02,121][kfold_wrapper.log_eval_metrics] Accuracy(layer_3 - estimator_1 - 5_folds.train_1.predict)=81.94%\n",
      "[ 2019-03-27 20:04:03,725][kfold_wrapper.log_eval_metrics] Accuracy(layer_3 - estimator_1 - 5_folds.train_2.predict)=82.34%\n"
     ]
    },
    {
     "name": "stderr",
     "output_type": "stream",
     "text": [
      "[ 2019-03-27 20:04:05,224][kfold_wrapper.log_eval_metrics] Accuracy(layer_3 - estimator_1 - 5_folds.train_3.predict)=82.56%\n",
      "[ 2019-03-27 20:04:06,732][kfold_wrapper.log_eval_metrics] Accuracy(layer_3 - estimator_1 - 5_folds.train_4.predict)=81.97%\n",
      "[ 2019-03-27 20:04:06,852][kfold_wrapper.log_eval_metrics] Accuracy(layer_3 - estimator_1 - 5_folds.train_cv.predict)=82.09%\n",
      "[ 2019-03-27 20:04:06,855][kfold_wrapper.log_eval_metrics] Accuracy(layer_3 - estimator_1 - 5_folds.test.predict)=82.94%\n",
      "[ 2019-03-27 20:04:07,557][kfold_wrapper.log_eval_metrics] Accuracy(layer_3 - estimator_2 - 5_folds.train_0.predict)=82.30%\n",
      "[ 2019-03-27 20:04:08,390][kfold_wrapper.log_eval_metrics] Accuracy(layer_3 - estimator_2 - 5_folds.train_1.predict)=81.81%\n",
      "[ 2019-03-27 20:04:09,212][kfold_wrapper.log_eval_metrics] Accuracy(layer_3 - estimator_2 - 5_folds.train_2.predict)=82.34%\n",
      "[ 2019-03-27 20:04:10,061][kfold_wrapper.log_eval_metrics] Accuracy(layer_3 - estimator_2 - 5_folds.train_3.predict)=82.27%\n",
      "[ 2019-03-27 20:04:10,894][kfold_wrapper.log_eval_metrics] Accuracy(layer_3 - estimator_2 - 5_folds.train_4.predict)=83.20%\n",
      "[ 2019-03-27 20:04:11,014][kfold_wrapper.log_eval_metrics] Accuracy(layer_3 - estimator_2 - 5_folds.train_cv.predict)=82.38%\n",
      "[ 2019-03-27 20:04:11,016][kfold_wrapper.log_eval_metrics] Accuracy(layer_3 - estimator_2 - 5_folds.test.predict)=83.49%\n",
      "/home/mounika/anaconda3/lib/python3.6/site-packages/sklearn/linear_model/logistic.py:433: FutureWarning: Default solver will be changed to 'lbfgs' in 0.22. Specify a solver to silence this warning.\n",
      "  FutureWarning)\n",
      "[ 2019-03-27 20:04:13,226][kfold_wrapper.log_eval_metrics] Accuracy(layer_3 - estimator_3 - 5_folds.train_0.predict)=83.41%\n",
      "/home/mounika/anaconda3/lib/python3.6/site-packages/sklearn/linear_model/logistic.py:433: FutureWarning: Default solver will be changed to 'lbfgs' in 0.22. Specify a solver to silence this warning.\n",
      "  FutureWarning)\n",
      "[ 2019-03-27 20:04:15,148][kfold_wrapper.log_eval_metrics] Accuracy(layer_3 - estimator_3 - 5_folds.train_1.predict)=83.51%\n",
      "/home/mounika/anaconda3/lib/python3.6/site-packages/sklearn/linear_model/logistic.py:433: FutureWarning: Default solver will be changed to 'lbfgs' in 0.22. Specify a solver to silence this warning.\n",
      "  FutureWarning)\n",
      "[ 2019-03-27 20:04:17,115][kfold_wrapper.log_eval_metrics] Accuracy(layer_3 - estimator_3 - 5_folds.train_2.predict)=83.96%\n",
      "/home/mounika/anaconda3/lib/python3.6/site-packages/sklearn/linear_model/logistic.py:433: FutureWarning: Default solver will be changed to 'lbfgs' in 0.22. Specify a solver to silence this warning.\n",
      "  FutureWarning)\n",
      "[ 2019-03-27 20:04:18,985][kfold_wrapper.log_eval_metrics] Accuracy(layer_3 - estimator_3 - 5_folds.train_3.predict)=83.81%\n",
      "/home/mounika/anaconda3/lib/python3.6/site-packages/sklearn/linear_model/logistic.py:433: FutureWarning: Default solver will be changed to 'lbfgs' in 0.22. Specify a solver to silence this warning.\n",
      "  FutureWarning)\n",
      "[ 2019-03-27 20:04:21,445][kfold_wrapper.log_eval_metrics] Accuracy(layer_3 - estimator_3 - 5_folds.train_4.predict)=83.56%\n",
      "[ 2019-03-27 20:04:21,455][kfold_wrapper.log_eval_metrics] Accuracy(layer_3 - estimator_3 - 5_folds.train_cv.predict)=83.65%\n",
      "[ 2019-03-27 20:04:21,456][kfold_wrapper.log_eval_metrics] Accuracy(layer_3 - estimator_3 - 5_folds.test.predict)=83.06%\n",
      "[ 2019-03-27 20:04:21,460][cascade_classifier.calc_accuracy] Accuracy(layer_3 - train.classifier_average)=83.73%\n",
      "[ 2019-03-27 20:04:21,463][cascade_classifier.calc_accuracy] Accuracy(layer_3 - test.classifier_average)=83.25%\n",
      "[ 2019-03-27 20:04:21,515][cascade_classifier.fit_transform] [layer=4] look_indexs=[0], X_cur_train.shape=(40000, 308), X_cur_test.shape=(10000, 308)\n",
      "[ 2019-03-27 20:04:22,222][kfold_wrapper.log_eval_metrics] Accuracy(layer_4 - estimator_0 - 5_folds.train_0.predict)=83.55%\n",
      "[ 2019-03-27 20:04:22,924][kfold_wrapper.log_eval_metrics] Accuracy(layer_4 - estimator_0 - 5_folds.train_1.predict)=83.36%\n",
      "[ 2019-03-27 20:04:23,625][kfold_wrapper.log_eval_metrics] Accuracy(layer_4 - estimator_0 - 5_folds.train_2.predict)=82.84%\n",
      "[ 2019-03-27 20:04:24,325][kfold_wrapper.log_eval_metrics] Accuracy(layer_4 - estimator_0 - 5_folds.train_3.predict)=84.52%\n",
      "[ 2019-03-27 20:04:25,026][kfold_wrapper.log_eval_metrics] Accuracy(layer_4 - estimator_0 - 5_folds.train_4.predict)=83.94%\n",
      "[ 2019-03-27 20:04:25,043][kfold_wrapper.log_eval_metrics] Accuracy(layer_4 - estimator_0 - 5_folds.train_cv.predict)=83.64%\n",
      "[ 2019-03-27 20:04:25,044][kfold_wrapper.log_eval_metrics] Accuracy(layer_4 - estimator_0 - 5_folds.test.predict)=83.24%\n",
      "[ 2019-03-27 20:04:26,335][kfold_wrapper.log_eval_metrics] Accuracy(layer_4 - estimator_1 - 5_folds.train_0.predict)=82.11%\n",
      "[ 2019-03-27 20:04:27,845][kfold_wrapper.log_eval_metrics] Accuracy(layer_4 - estimator_1 - 5_folds.train_1.predict)=81.85%\n",
      "[ 2019-03-27 20:04:29,369][kfold_wrapper.log_eval_metrics] Accuracy(layer_4 - estimator_1 - 5_folds.train_2.predict)=82.38%\n",
      "[ 2019-03-27 20:04:30,878][kfold_wrapper.log_eval_metrics] Accuracy(layer_4 - estimator_1 - 5_folds.train_3.predict)=82.06%\n",
      "[ 2019-03-27 20:04:32,392][kfold_wrapper.log_eval_metrics] Accuracy(layer_4 - estimator_1 - 5_folds.train_4.predict)=81.42%\n",
      "[ 2019-03-27 20:04:32,509][kfold_wrapper.log_eval_metrics] Accuracy(layer_4 - estimator_1 - 5_folds.train_cv.predict)=81.97%\n",
      "[ 2019-03-27 20:04:32,512][kfold_wrapper.log_eval_metrics] Accuracy(layer_4 - estimator_1 - 5_folds.test.predict)=83.26%\n",
      "[ 2019-03-27 20:04:33,218][kfold_wrapper.log_eval_metrics] Accuracy(layer_4 - estimator_2 - 5_folds.train_0.predict)=82.24%\n",
      "[ 2019-03-27 20:04:34,060][kfold_wrapper.log_eval_metrics] Accuracy(layer_4 - estimator_2 - 5_folds.train_1.predict)=82.85%\n",
      "[ 2019-03-27 20:04:34,895][kfold_wrapper.log_eval_metrics] Accuracy(layer_4 - estimator_2 - 5_folds.train_2.predict)=82.80%\n",
      "[ 2019-03-27 20:04:35,736][kfold_wrapper.log_eval_metrics] Accuracy(layer_4 - estimator_2 - 5_folds.train_3.predict)=82.19%\n",
      "[ 2019-03-27 20:04:36,589][kfold_wrapper.log_eval_metrics] Accuracy(layer_4 - estimator_2 - 5_folds.train_4.predict)=82.14%\n",
      "[ 2019-03-27 20:04:36,711][kfold_wrapper.log_eval_metrics] Accuracy(layer_4 - estimator_2 - 5_folds.train_cv.predict)=82.44%\n",
      "[ 2019-03-27 20:04:36,714][kfold_wrapper.log_eval_metrics] Accuracy(layer_4 - estimator_2 - 5_folds.test.predict)=83.25%\n",
      "/home/mounika/anaconda3/lib/python3.6/site-packages/sklearn/linear_model/logistic.py:433: FutureWarning: Default solver will be changed to 'lbfgs' in 0.22. Specify a solver to silence this warning.\n",
      "  FutureWarning)\n",
      "[ 2019-03-27 20:04:39,088][kfold_wrapper.log_eval_metrics] Accuracy(layer_4 - estimator_3 - 5_folds.train_0.predict)=83.20%\n",
      "/home/mounika/anaconda3/lib/python3.6/site-packages/sklearn/linear_model/logistic.py:433: FutureWarning: Default solver will be changed to 'lbfgs' in 0.22. Specify a solver to silence this warning.\n",
      "  FutureWarning)\n",
      "[ 2019-03-27 20:04:40,991][kfold_wrapper.log_eval_metrics] Accuracy(layer_4 - estimator_3 - 5_folds.train_1.predict)=84.24%\n",
      "/home/mounika/anaconda3/lib/python3.6/site-packages/sklearn/linear_model/logistic.py:433: FutureWarning: Default solver will be changed to 'lbfgs' in 0.22. Specify a solver to silence this warning.\n",
      "  FutureWarning)\n",
      "[ 2019-03-27 20:04:42,898][kfold_wrapper.log_eval_metrics] Accuracy(layer_4 - estimator_3 - 5_folds.train_2.predict)=83.08%\n",
      "/home/mounika/anaconda3/lib/python3.6/site-packages/sklearn/linear_model/logistic.py:433: FutureWarning: Default solver will be changed to 'lbfgs' in 0.22. Specify a solver to silence this warning.\n",
      "  FutureWarning)\n",
      "[ 2019-03-27 20:04:44,836][kfold_wrapper.log_eval_metrics] Accuracy(layer_4 - estimator_3 - 5_folds.train_3.predict)=84.15%\n",
      "/home/mounika/anaconda3/lib/python3.6/site-packages/sklearn/linear_model/logistic.py:433: FutureWarning: Default solver will be changed to 'lbfgs' in 0.22. Specify a solver to silence this warning.\n",
      "  FutureWarning)\n",
      "[ 2019-03-27 20:04:46,820][kfold_wrapper.log_eval_metrics] Accuracy(layer_4 - estimator_3 - 5_folds.train_4.predict)=83.64%\n",
      "[ 2019-03-27 20:04:46,836][kfold_wrapper.log_eval_metrics] Accuracy(layer_4 - estimator_3 - 5_folds.train_cv.predict)=83.66%\n",
      "[ 2019-03-27 20:04:46,837][kfold_wrapper.log_eval_metrics] Accuracy(layer_4 - estimator_3 - 5_folds.test.predict)=83.16%\n"
     ]
    },
    {
     "name": "stderr",
     "output_type": "stream",
     "text": [
      "[ 2019-03-27 20:04:46,838][cascade_classifier.calc_accuracy] Accuracy(layer_4 - train.classifier_average)=83.78%\n",
      "[ 2019-03-27 20:04:46,839][cascade_classifier.calc_accuracy] Accuracy(layer_4 - test.classifier_average)=83.34%\n",
      "[ 2019-03-27 20:04:46,897][cascade_classifier.fit_transform] [layer=5] look_indexs=[0], X_cur_train.shape=(40000, 308), X_cur_test.shape=(10000, 308)\n",
      "[ 2019-03-27 20:04:47,605][kfold_wrapper.log_eval_metrics] Accuracy(layer_5 - estimator_0 - 5_folds.train_0.predict)=83.98%\n",
      "[ 2019-03-27 20:04:48,308][kfold_wrapper.log_eval_metrics] Accuracy(layer_5 - estimator_0 - 5_folds.train_1.predict)=82.94%\n",
      "[ 2019-03-27 20:04:49,014][kfold_wrapper.log_eval_metrics] Accuracy(layer_5 - estimator_0 - 5_folds.train_2.predict)=83.99%\n",
      "[ 2019-03-27 20:04:49,724][kfold_wrapper.log_eval_metrics] Accuracy(layer_5 - estimator_0 - 5_folds.train_3.predict)=83.44%\n",
      "[ 2019-03-27 20:04:50,437][kfold_wrapper.log_eval_metrics] Accuracy(layer_5 - estimator_0 - 5_folds.train_4.predict)=84.10%\n",
      "[ 2019-03-27 20:04:50,451][kfold_wrapper.log_eval_metrics] Accuracy(layer_5 - estimator_0 - 5_folds.train_cv.predict)=83.69%\n",
      "[ 2019-03-27 20:04:50,452][kfold_wrapper.log_eval_metrics] Accuracy(layer_5 - estimator_0 - 5_folds.test.predict)=83.14%\n",
      "[ 2019-03-27 20:04:51,737][kfold_wrapper.log_eval_metrics] Accuracy(layer_5 - estimator_1 - 5_folds.train_0.predict)=82.00%\n",
      "[ 2019-03-27 20:04:53,140][kfold_wrapper.log_eval_metrics] Accuracy(layer_5 - estimator_1 - 5_folds.train_1.predict)=81.24%\n",
      "[ 2019-03-27 20:04:54,547][kfold_wrapper.log_eval_metrics] Accuracy(layer_5 - estimator_1 - 5_folds.train_2.predict)=82.04%\n",
      "[ 2019-03-27 20:04:55,959][kfold_wrapper.log_eval_metrics] Accuracy(layer_5 - estimator_1 - 5_folds.train_3.predict)=82.45%\n",
      "[ 2019-03-27 20:04:57,364][kfold_wrapper.log_eval_metrics] Accuracy(layer_5 - estimator_1 - 5_folds.train_4.predict)=81.51%\n",
      "[ 2019-03-27 20:04:57,483][kfold_wrapper.log_eval_metrics] Accuracy(layer_5 - estimator_1 - 5_folds.train_cv.predict)=81.85%\n",
      "[ 2019-03-27 20:04:57,486][kfold_wrapper.log_eval_metrics] Accuracy(layer_5 - estimator_1 - 5_folds.test.predict)=83.27%\n",
      "[ 2019-03-27 20:04:58,203][kfold_wrapper.log_eval_metrics] Accuracy(layer_5 - estimator_2 - 5_folds.train_0.predict)=82.76%\n",
      "[ 2019-03-27 20:04:59,026][kfold_wrapper.log_eval_metrics] Accuracy(layer_5 - estimator_2 - 5_folds.train_1.predict)=81.95%\n",
      "[ 2019-03-27 20:04:59,855][kfold_wrapper.log_eval_metrics] Accuracy(layer_5 - estimator_2 - 5_folds.train_2.predict)=82.56%\n",
      "[ 2019-03-27 20:05:00,692][kfold_wrapper.log_eval_metrics] Accuracy(layer_5 - estimator_2 - 5_folds.train_3.predict)=82.60%\n",
      "[ 2019-03-27 20:05:01,534][kfold_wrapper.log_eval_metrics] Accuracy(layer_5 - estimator_2 - 5_folds.train_4.predict)=82.12%\n",
      "[ 2019-03-27 20:05:01,654][kfold_wrapper.log_eval_metrics] Accuracy(layer_5 - estimator_2 - 5_folds.train_cv.predict)=82.40%\n",
      "[ 2019-03-27 20:05:01,658][kfold_wrapper.log_eval_metrics] Accuracy(layer_5 - estimator_2 - 5_folds.test.predict)=83.59%\n",
      "/home/mounika/anaconda3/lib/python3.6/site-packages/sklearn/linear_model/logistic.py:433: FutureWarning: Default solver will be changed to 'lbfgs' in 0.22. Specify a solver to silence this warning.\n",
      "  FutureWarning)\n",
      "[ 2019-03-27 20:05:03,798][kfold_wrapper.log_eval_metrics] Accuracy(layer_5 - estimator_3 - 5_folds.train_0.predict)=83.46%\n",
      "/home/mounika/anaconda3/lib/python3.6/site-packages/sklearn/linear_model/logistic.py:433: FutureWarning: Default solver will be changed to 'lbfgs' in 0.22. Specify a solver to silence this warning.\n",
      "  FutureWarning)\n",
      "[ 2019-03-27 20:05:06,187][kfold_wrapper.log_eval_metrics] Accuracy(layer_5 - estimator_3 - 5_folds.train_1.predict)=84.53%\n",
      "/home/mounika/anaconda3/lib/python3.6/site-packages/sklearn/linear_model/logistic.py:433: FutureWarning: Default solver will be changed to 'lbfgs' in 0.22. Specify a solver to silence this warning.\n",
      "  FutureWarning)\n",
      "[ 2019-03-27 20:05:08,304][kfold_wrapper.log_eval_metrics] Accuracy(layer_5 - estimator_3 - 5_folds.train_2.predict)=83.41%\n",
      "/home/mounika/anaconda3/lib/python3.6/site-packages/sklearn/linear_model/logistic.py:433: FutureWarning: Default solver will be changed to 'lbfgs' in 0.22. Specify a solver to silence this warning.\n",
      "  FutureWarning)\n",
      "[ 2019-03-27 20:05:10,232][kfold_wrapper.log_eval_metrics] Accuracy(layer_5 - estimator_3 - 5_folds.train_3.predict)=83.40%\n",
      "/home/mounika/anaconda3/lib/python3.6/site-packages/sklearn/linear_model/logistic.py:433: FutureWarning: Default solver will be changed to 'lbfgs' in 0.22. Specify a solver to silence this warning.\n",
      "  FutureWarning)\n",
      "[ 2019-03-27 20:05:12,473][kfold_wrapper.log_eval_metrics] Accuracy(layer_5 - estimator_3 - 5_folds.train_4.predict)=83.36%\n",
      "[ 2019-03-27 20:05:12,485][kfold_wrapper.log_eval_metrics] Accuracy(layer_5 - estimator_3 - 5_folds.train_cv.predict)=83.63%\n",
      "[ 2019-03-27 20:05:12,486][kfold_wrapper.log_eval_metrics] Accuracy(layer_5 - estimator_3 - 5_folds.test.predict)=83.23%\n",
      "[ 2019-03-27 20:05:12,487][cascade_classifier.calc_accuracy] Accuracy(layer_5 - train.classifier_average)=83.67%\n",
      "[ 2019-03-27 20:05:12,497][cascade_classifier.calc_accuracy] Accuracy(layer_5 - test.classifier_average)=83.45%\n",
      "[ 2019-03-27 20:05:12,551][cascade_classifier.fit_transform] [layer=6] look_indexs=[0], X_cur_train.shape=(40000, 308), X_cur_test.shape=(10000, 308)\n",
      "[ 2019-03-27 20:05:13,258][kfold_wrapper.log_eval_metrics] Accuracy(layer_6 - estimator_0 - 5_folds.train_0.predict)=83.40%\n",
      "[ 2019-03-27 20:05:13,958][kfold_wrapper.log_eval_metrics] Accuracy(layer_6 - estimator_0 - 5_folds.train_1.predict)=83.21%\n",
      "[ 2019-03-27 20:05:14,668][kfold_wrapper.log_eval_metrics] Accuracy(layer_6 - estimator_0 - 5_folds.train_2.predict)=83.26%\n",
      "[ 2019-03-27 20:05:15,372][kfold_wrapper.log_eval_metrics] Accuracy(layer_6 - estimator_0 - 5_folds.train_3.predict)=83.69%\n",
      "[ 2019-03-27 20:05:16,074][kfold_wrapper.log_eval_metrics] Accuracy(layer_6 - estimator_0 - 5_folds.train_4.predict)=83.94%\n",
      "[ 2019-03-27 20:05:16,089][kfold_wrapper.log_eval_metrics] Accuracy(layer_6 - estimator_0 - 5_folds.train_cv.predict)=83.50%\n",
      "[ 2019-03-27 20:05:16,090][kfold_wrapper.log_eval_metrics] Accuracy(layer_6 - estimator_0 - 5_folds.test.predict)=83.28%\n",
      "[ 2019-03-27 20:05:17,481][kfold_wrapper.log_eval_metrics] Accuracy(layer_6 - estimator_1 - 5_folds.train_0.predict)=82.09%\n",
      "[ 2019-03-27 20:05:19,007][kfold_wrapper.log_eval_metrics] Accuracy(layer_6 - estimator_1 - 5_folds.train_1.predict)=81.24%\n",
      "[ 2019-03-27 20:05:20,421][kfold_wrapper.log_eval_metrics] Accuracy(layer_6 - estimator_1 - 5_folds.train_2.predict)=81.50%\n",
      "[ 2019-03-27 20:05:21,840][kfold_wrapper.log_eval_metrics] Accuracy(layer_6 - estimator_1 - 5_folds.train_3.predict)=81.85%\n",
      "[ 2019-03-27 20:05:23,246][kfold_wrapper.log_eval_metrics] Accuracy(layer_6 - estimator_1 - 5_folds.train_4.predict)=82.12%\n",
      "[ 2019-03-27 20:05:23,358][kfold_wrapper.log_eval_metrics] Accuracy(layer_6 - estimator_1 - 5_folds.train_cv.predict)=81.76%\n",
      "[ 2019-03-27 20:05:23,360][kfold_wrapper.log_eval_metrics] Accuracy(layer_6 - estimator_1 - 5_folds.test.predict)=83.30%\n",
      "[ 2019-03-27 20:05:24,067][kfold_wrapper.log_eval_metrics] Accuracy(layer_6 - estimator_2 - 5_folds.train_0.predict)=82.28%\n",
      "[ 2019-03-27 20:05:24,909][kfold_wrapper.log_eval_metrics] Accuracy(layer_6 - estimator_2 - 5_folds.train_1.predict)=81.38%\n",
      "[ 2019-03-27 20:05:25,734][kfold_wrapper.log_eval_metrics] Accuracy(layer_6 - estimator_2 - 5_folds.train_2.predict)=82.25%\n",
      "[ 2019-03-27 20:05:26,585][kfold_wrapper.log_eval_metrics] Accuracy(layer_6 - estimator_2 - 5_folds.train_3.predict)=83.00%\n",
      "[ 2019-03-27 20:05:27,421][kfold_wrapper.log_eval_metrics] Accuracy(layer_6 - estimator_2 - 5_folds.train_4.predict)=82.84%\n",
      "[ 2019-03-27 20:05:27,542][kfold_wrapper.log_eval_metrics] Accuracy(layer_6 - estimator_2 - 5_folds.train_cv.predict)=82.35%\n",
      "[ 2019-03-27 20:05:27,545][kfold_wrapper.log_eval_metrics] Accuracy(layer_6 - estimator_2 - 5_folds.test.predict)=83.49%\n",
      "/home/mounika/anaconda3/lib/python3.6/site-packages/sklearn/linear_model/logistic.py:433: FutureWarning: Default solver will be changed to 'lbfgs' in 0.22. Specify a solver to silence this warning.\n",
      "  FutureWarning)\n",
      "[ 2019-03-27 20:05:29,544][kfold_wrapper.log_eval_metrics] Accuracy(layer_6 - estimator_3 - 5_folds.train_0.predict)=83.40%\n"
     ]
    },
    {
     "name": "stderr",
     "output_type": "stream",
     "text": [
      "/home/mounika/anaconda3/lib/python3.6/site-packages/sklearn/linear_model/logistic.py:433: FutureWarning: Default solver will be changed to 'lbfgs' in 0.22. Specify a solver to silence this warning.\n",
      "  FutureWarning)\n",
      "[ 2019-03-27 20:05:31,558][kfold_wrapper.log_eval_metrics] Accuracy(layer_6 - estimator_3 - 5_folds.train_1.predict)=83.69%\n",
      "/home/mounika/anaconda3/lib/python3.6/site-packages/sklearn/linear_model/logistic.py:433: FutureWarning: Default solver will be changed to 'lbfgs' in 0.22. Specify a solver to silence this warning.\n",
      "  FutureWarning)\n",
      "[ 2019-03-27 20:05:33,665][kfold_wrapper.log_eval_metrics] Accuracy(layer_6 - estimator_3 - 5_folds.train_2.predict)=82.66%\n",
      "/home/mounika/anaconda3/lib/python3.6/site-packages/sklearn/linear_model/logistic.py:433: FutureWarning: Default solver will be changed to 'lbfgs' in 0.22. Specify a solver to silence this warning.\n",
      "  FutureWarning)\n",
      "[ 2019-03-27 20:05:35,492][kfold_wrapper.log_eval_metrics] Accuracy(layer_6 - estimator_3 - 5_folds.train_3.predict)=83.92%\n",
      "/home/mounika/anaconda3/lib/python3.6/site-packages/sklearn/linear_model/logistic.py:433: FutureWarning: Default solver will be changed to 'lbfgs' in 0.22. Specify a solver to silence this warning.\n",
      "  FutureWarning)\n",
      "[ 2019-03-27 20:05:37,783][kfold_wrapper.log_eval_metrics] Accuracy(layer_6 - estimator_3 - 5_folds.train_4.predict)=84.51%\n",
      "[ 2019-03-27 20:05:37,792][kfold_wrapper.log_eval_metrics] Accuracy(layer_6 - estimator_3 - 5_folds.train_cv.predict)=83.64%\n",
      "[ 2019-03-27 20:05:37,794][kfold_wrapper.log_eval_metrics] Accuracy(layer_6 - estimator_3 - 5_folds.test.predict)=83.33%\n",
      "[ 2019-03-27 20:05:37,796][cascade_classifier.calc_accuracy] Accuracy(layer_6 - train.classifier_average)=83.67%\n",
      "[ 2019-03-27 20:05:37,797][cascade_classifier.calc_accuracy] Accuracy(layer_6 - test.classifier_average)=83.43%\n",
      "[ 2019-03-27 20:05:37,851][cascade_classifier.fit_transform] [layer=7] look_indexs=[0], X_cur_train.shape=(40000, 308), X_cur_test.shape=(10000, 308)\n",
      "[ 2019-03-27 20:05:38,559][kfold_wrapper.log_eval_metrics] Accuracy(layer_7 - estimator_0 - 5_folds.train_0.predict)=84.18%\n",
      "[ 2019-03-27 20:05:39,256][kfold_wrapper.log_eval_metrics] Accuracy(layer_7 - estimator_0 - 5_folds.train_1.predict)=83.25%\n",
      "[ 2019-03-27 20:05:39,958][kfold_wrapper.log_eval_metrics] Accuracy(layer_7 - estimator_0 - 5_folds.train_2.predict)=83.34%\n",
      "[ 2019-03-27 20:05:40,674][kfold_wrapper.log_eval_metrics] Accuracy(layer_7 - estimator_0 - 5_folds.train_3.predict)=83.84%\n",
      "[ 2019-03-27 20:05:41,386][kfold_wrapper.log_eval_metrics] Accuracy(layer_7 - estimator_0 - 5_folds.train_4.predict)=83.31%\n",
      "[ 2019-03-27 20:05:41,404][kfold_wrapper.log_eval_metrics] Accuracy(layer_7 - estimator_0 - 5_folds.train_cv.predict)=83.58%\n",
      "[ 2019-03-27 20:05:41,405][kfold_wrapper.log_eval_metrics] Accuracy(layer_7 - estimator_0 - 5_folds.test.predict)=83.16%\n",
      "[ 2019-03-27 20:05:42,693][kfold_wrapper.log_eval_metrics] Accuracy(layer_7 - estimator_1 - 5_folds.train_0.predict)=82.58%\n",
      "[ 2019-03-27 20:05:44,114][kfold_wrapper.log_eval_metrics] Accuracy(layer_7 - estimator_1 - 5_folds.train_1.predict)=81.96%\n",
      "[ 2019-03-27 20:05:45,536][kfold_wrapper.log_eval_metrics] Accuracy(layer_7 - estimator_1 - 5_folds.train_2.predict)=82.47%\n",
      "[ 2019-03-27 20:05:46,955][kfold_wrapper.log_eval_metrics] Accuracy(layer_7 - estimator_1 - 5_folds.train_3.predict)=81.85%\n",
      "[ 2019-03-27 20:05:48,364][kfold_wrapper.log_eval_metrics] Accuracy(layer_7 - estimator_1 - 5_folds.train_4.predict)=81.49%\n",
      "[ 2019-03-27 20:05:48,479][kfold_wrapper.log_eval_metrics] Accuracy(layer_7 - estimator_1 - 5_folds.train_cv.predict)=82.07%\n",
      "[ 2019-03-27 20:05:48,482][kfold_wrapper.log_eval_metrics] Accuracy(layer_7 - estimator_1 - 5_folds.test.predict)=83.06%\n",
      "[ 2019-03-27 20:05:49,187][kfold_wrapper.log_eval_metrics] Accuracy(layer_7 - estimator_2 - 5_folds.train_0.predict)=82.49%\n",
      "[ 2019-03-27 20:05:50,022][kfold_wrapper.log_eval_metrics] Accuracy(layer_7 - estimator_2 - 5_folds.train_1.predict)=82.58%\n",
      "[ 2019-03-27 20:05:50,869][kfold_wrapper.log_eval_metrics] Accuracy(layer_7 - estimator_2 - 5_folds.train_2.predict)=82.75%\n",
      "[ 2019-03-27 20:05:51,708][kfold_wrapper.log_eval_metrics] Accuracy(layer_7 - estimator_2 - 5_folds.train_3.predict)=82.09%\n",
      "[ 2019-03-27 20:05:52,549][kfold_wrapper.log_eval_metrics] Accuracy(layer_7 - estimator_2 - 5_folds.train_4.predict)=81.90%\n",
      "[ 2019-03-27 20:05:52,671][kfold_wrapper.log_eval_metrics] Accuracy(layer_7 - estimator_2 - 5_folds.train_cv.predict)=82.36%\n",
      "[ 2019-03-27 20:05:52,674][kfold_wrapper.log_eval_metrics] Accuracy(layer_7 - estimator_2 - 5_folds.test.predict)=83.32%\n",
      "/home/mounika/anaconda3/lib/python3.6/site-packages/sklearn/linear_model/logistic.py:433: FutureWarning: Default solver will be changed to 'lbfgs' in 0.22. Specify a solver to silence this warning.\n",
      "  FutureWarning)\n",
      "[ 2019-03-27 20:05:55,108][kfold_wrapper.log_eval_metrics] Accuracy(layer_7 - estimator_3 - 5_folds.train_0.predict)=83.81%\n",
      "/home/mounika/anaconda3/lib/python3.6/site-packages/sklearn/linear_model/logistic.py:433: FutureWarning: Default solver will be changed to 'lbfgs' in 0.22. Specify a solver to silence this warning.\n",
      "  FutureWarning)\n",
      "[ 2019-03-27 20:05:57,128][kfold_wrapper.log_eval_metrics] Accuracy(layer_7 - estimator_3 - 5_folds.train_1.predict)=83.59%\n",
      "/home/mounika/anaconda3/lib/python3.6/site-packages/sklearn/linear_model/logistic.py:433: FutureWarning: Default solver will be changed to 'lbfgs' in 0.22. Specify a solver to silence this warning.\n",
      "  FutureWarning)\n",
      "[ 2019-03-27 20:05:59,070][kfold_wrapper.log_eval_metrics] Accuracy(layer_7 - estimator_3 - 5_folds.train_2.predict)=84.36%\n",
      "/home/mounika/anaconda3/lib/python3.6/site-packages/sklearn/linear_model/logistic.py:433: FutureWarning: Default solver will be changed to 'lbfgs' in 0.22. Specify a solver to silence this warning.\n",
      "  FutureWarning)\n",
      "[ 2019-03-27 20:06:01,437][kfold_wrapper.log_eval_metrics] Accuracy(layer_7 - estimator_3 - 5_folds.train_3.predict)=83.69%\n",
      "/home/mounika/anaconda3/lib/python3.6/site-packages/sklearn/linear_model/logistic.py:433: FutureWarning: Default solver will be changed to 'lbfgs' in 0.22. Specify a solver to silence this warning.\n",
      "  FutureWarning)\n",
      "[ 2019-03-27 20:06:03,626][kfold_wrapper.log_eval_metrics] Accuracy(layer_7 - estimator_3 - 5_folds.train_4.predict)=82.36%\n",
      "[ 2019-03-27 20:06:03,640][kfold_wrapper.log_eval_metrics] Accuracy(layer_7 - estimator_3 - 5_folds.train_cv.predict)=83.56%\n",
      "[ 2019-03-27 20:06:03,641][kfold_wrapper.log_eval_metrics] Accuracy(layer_7 - estimator_3 - 5_folds.test.predict)=83.27%\n",
      "[ 2019-03-27 20:06:03,643][cascade_classifier.calc_accuracy] Accuracy(layer_7 - train.classifier_average)=83.75%\n",
      "[ 2019-03-27 20:06:03,644][cascade_classifier.calc_accuracy] Accuracy(layer_7 - test.classifier_average)=83.32%\n",
      "[ 2019-03-27 20:06:03,649][cascade_classifier.fit_transform] [Result][Optimal Level Detected] opt_layer_num=5, accuracy_train=83.78%, accuracy_test=83.34%\n"
     ]
    }
   ],
   "source": [
    "X_train_enc = gc.fit_transform(x_train, y_train,X_test=x_test, y_test=y_test)\n",
    "#y_pred = gc.predict(x_test)"
   ]
  },
  {
   "cell_type": "code",
   "execution_count": 269,
   "metadata": {},
   "outputs": [
    {
     "name": "stderr",
     "output_type": "stream",
     "text": [
      "[ 2019-03-27 20:06:03,663][cascade_classifier.transform] X_groups_test.shape=[(10000, 300)]\n",
      "[ 2019-03-27 20:06:03,668][cascade_classifier.transform] group_dims=[300]\n",
      "[ 2019-03-27 20:06:03,669][cascade_classifier.transform] X_test.shape=(10000, 300)\n",
      "[ 2019-03-27 20:06:03,673][cascade_classifier.transform] [layer=0] look_indexs=[0], X_cur_test.shape=(10000, 300)\n",
      "[ 2019-03-27 20:06:04,972][cascade_classifier.transform] [layer=1] look_indexs=[0], X_cur_test.shape=(10000, 308)\n",
      "[ 2019-03-27 20:06:06,287][cascade_classifier.transform] [layer=2] look_indexs=[0], X_cur_test.shape=(10000, 308)\n",
      "[ 2019-03-27 20:06:07,587][cascade_classifier.transform] [layer=3] look_indexs=[0], X_cur_test.shape=(10000, 308)\n",
      "[ 2019-03-27 20:06:08,935][cascade_classifier.transform] [layer=4] look_indexs=[0], X_cur_test.shape=(10000, 308)\n"
     ]
    }
   ],
   "source": [
    "y_pred = gc.predict(x_test)"
   ]
  },
  {
   "cell_type": "code",
   "execution_count": 270,
   "metadata": {},
   "outputs": [
    {
     "name": "stdout",
     "output_type": "stream",
     "text": [
      "              precision    recall  f1-score   support\n",
      "\n",
      "           0       0.82      0.85      0.84      5003\n",
      "           1       0.85      0.81      0.83      4997\n",
      "\n",
      "   micro avg       0.83      0.83      0.83     10000\n",
      "   macro avg       0.83      0.83      0.83     10000\n",
      "weighted avg       0.83      0.83      0.83     10000\n",
      "\n"
     ]
    }
   ],
   "source": [
    "print(classification_report(y_test,y_pred))"
   ]
  },
  {
   "cell_type": "code",
   "execution_count": 271,
   "metadata": {},
   "outputs": [],
   "source": [
    "import pickle\n",
    "pickle.dump(gc,open('/home/mounika/Desktop/Word-Embeddings/dranziera_protocol/GC_GLOVE/gc_glove_Video_Games','wb'))"
   ]
  },
  {
   "cell_type": "code",
   "execution_count": null,
   "metadata": {},
   "outputs": [],
   "source": []
  },
  {
   "cell_type": "code",
   "execution_count": null,
   "metadata": {},
   "outputs": [],
   "source": []
  }
 ],
 "metadata": {
  "kernelspec": {
   "display_name": "Python 3",
   "language": "python",
   "name": "python3"
  },
  "language_info": {
   "codemirror_mode": {
    "name": "ipython",
    "version": 3
   },
   "file_extension": ".py",
   "mimetype": "text/x-python",
   "name": "python",
   "nbconvert_exporter": "python",
   "pygments_lexer": "ipython3",
   "version": "3.6.8"
  }
 },
 "nbformat": 4,
 "nbformat_minor": 2
}
