{
 "cells": [
  {
   "cell_type": "code",
   "execution_count": 130,
   "metadata": {},
   "outputs": [],
   "source": [
    "import os\n",
    "d='.'\n",
    "y = [filter(lambda x: os.path.isdir(os.path.join(d, x)), os.listdir(d))]"
   ]
  },
  {
   "cell_type": "code",
   "execution_count": 131,
   "metadata": {},
   "outputs": [],
   "source": [
    "d = 'D:/dranziera_protocol/'\n",
    "\n",
    "alldir = [os.path.join(d, o) for o in os.listdir(d) \n",
    "                    if os.path.isdir(os.path.join(d,o))]"
   ]
  },
  {
   "cell_type": "code",
   "execution_count": 132,
   "metadata": {},
   "outputs": [],
   "source": [
    "#print (alldir)"
   ]
  },
  {
   "cell_type": "code",
   "execution_count": 133,
   "metadata": {},
   "outputs": [],
   "source": [
    "allfiles = []\n",
    "for mypath in alldir:\n",
    "    curfiles = [os.path.join(mypath, f) for f in os.listdir(mypath) if os.path.isfile(os.path.join(mypath, f))]\n",
    "    allfiles.extend(curfiles)\n"
   ]
  },
  {
   "cell_type": "code",
   "execution_count": 137,
   "metadata": {},
   "outputs": [
    {
     "name": "stdout",
     "output_type": "stream",
     "text": [
      "['D:/dranziera_protocol/Amazon_Instant_Video\\\\Amazon_Instant_Video.neg.0.xml', 'D:/dranziera_protocol/Amazon_Instant_Video\\\\Amazon_Instant_Video.neg.1.xml', 'D:/dranziera_protocol/Amazon_Instant_Video\\\\Amazon_Instant_Video.neg.2.xml', 'D:/dranziera_protocol/Amazon_Instant_Video\\\\Amazon_Instant_Video.neg.3.xml', 'D:/dranziera_protocol/Amazon_Instant_Video\\\\Amazon_Instant_Video.neg.4.xml', 'D:/dranziera_protocol/Amazon_Instant_Video\\\\Amazon_Instant_Video.pos.0.xml', 'D:/dranziera_protocol/Amazon_Instant_Video\\\\Amazon_Instant_Video.pos.1.xml', 'D:/dranziera_protocol/Amazon_Instant_Video\\\\Amazon_Instant_Video.pos.2.xml', 'D:/dranziera_protocol/Amazon_Instant_Video\\\\Amazon_Instant_Video.pos.3.xml', 'D:/dranziera_protocol/Amazon_Instant_Video\\\\Amazon_Instant_Video.pos.4.xml', 'D:/dranziera_protocol/Automotive\\\\Automotive.neg.0.xml', 'D:/dranziera_protocol/Automotive\\\\Automotive.neg.1.xml', 'D:/dranziera_protocol/Automotive\\\\Automotive.neg.2.xml', 'D:/dranziera_protocol/Automotive\\\\Automotive.neg.3.xml', 'D:/dranziera_protocol/Automotive\\\\Automotive.neg.4.xml', 'D:/dranziera_protocol/Automotive\\\\Automotive.pos.0.xml', 'D:/dranziera_protocol/Automotive\\\\Automotive.pos.1.xml', 'D:/dranziera_protocol/Automotive\\\\Automotive.pos.2.xml', 'D:/dranziera_protocol/Automotive\\\\Automotive.pos.3.xml', 'D:/dranziera_protocol/Automotive\\\\Automotive.pos.4.xml', 'D:/dranziera_protocol/Baby\\\\Baby.neg.0.xml', 'D:/dranziera_protocol/Baby\\\\Baby.neg.1.xml', 'D:/dranziera_protocol/Baby\\\\Baby.neg.2.xml', 'D:/dranziera_protocol/Baby\\\\Baby.neg.3.xml', 'D:/dranziera_protocol/Baby\\\\Baby.neg.4.xml', 'D:/dranziera_protocol/Baby\\\\Baby.pos.0.xml', 'D:/dranziera_protocol/Baby\\\\Baby.pos.1.xml', 'D:/dranziera_protocol/Baby\\\\Baby.pos.2.xml', 'D:/dranziera_protocol/Baby\\\\Baby.pos.3.xml', 'D:/dranziera_protocol/Baby\\\\Baby.pos.4.xml', 'D:/dranziera_protocol/Beauty\\\\Beauty.neg.0.xml', 'D:/dranziera_protocol/Beauty\\\\Beauty.neg.1.xml', 'D:/dranziera_protocol/Beauty\\\\Beauty.neg.2.xml', 'D:/dranziera_protocol/Beauty\\\\Beauty.neg.3.xml', 'D:/dranziera_protocol/Beauty\\\\Beauty.neg.4.xml', 'D:/dranziera_protocol/Beauty\\\\Beauty.pos.0.xml', 'D:/dranziera_protocol/Beauty\\\\Beauty.pos.1.xml', 'D:/dranziera_protocol/Beauty\\\\Beauty.pos.2.xml', 'D:/dranziera_protocol/Beauty\\\\Beauty.pos.3.xml', 'D:/dranziera_protocol/Beauty\\\\Beauty.pos.4.xml', 'D:/dranziera_protocol/Books\\\\Books.neg.0.xml', 'D:/dranziera_protocol/Books\\\\Books.neg.1.xml', 'D:/dranziera_protocol/Books\\\\Books.neg.2.xml', 'D:/dranziera_protocol/Books\\\\Books.neg.3.xml', 'D:/dranziera_protocol/Books\\\\Books.neg.4.xml', 'D:/dranziera_protocol/Books\\\\Books.pos.0.xml', 'D:/dranziera_protocol/Books\\\\Books.pos.1.xml', 'D:/dranziera_protocol/Books\\\\Books.pos.2.xml', 'D:/dranziera_protocol/Books\\\\Books.pos.3.xml', 'D:/dranziera_protocol/Books\\\\Books.pos.4.xml', 'D:/dranziera_protocol/Clothing_Accessories\\\\Clothing_Accessories.neg.0.xml', 'D:/dranziera_protocol/Clothing_Accessories\\\\Clothing_Accessories.neg.1.xml', 'D:/dranziera_protocol/Clothing_Accessories\\\\Clothing_Accessories.neg.2.xml', 'D:/dranziera_protocol/Clothing_Accessories\\\\Clothing_Accessories.neg.3.xml', 'D:/dranziera_protocol/Clothing_Accessories\\\\Clothing_Accessories.neg.4.xml', 'D:/dranziera_protocol/Clothing_Accessories\\\\Clothing_Accessories.pos.0.xml', 'D:/dranziera_protocol/Clothing_Accessories\\\\Clothing_Accessories.pos.1.xml', 'D:/dranziera_protocol/Clothing_Accessories\\\\Clothing_Accessories.pos.2.xml', 'D:/dranziera_protocol/Clothing_Accessories\\\\Clothing_Accessories.pos.3.xml', 'D:/dranziera_protocol/Clothing_Accessories\\\\Clothing_Accessories.pos.4.xml', 'D:/dranziera_protocol/Electronics\\\\Electronics.neg.0.xml', 'D:/dranziera_protocol/Electronics\\\\Electronics.neg.1.xml', 'D:/dranziera_protocol/Electronics\\\\Electronics.neg.2.xml', 'D:/dranziera_protocol/Electronics\\\\Electronics.neg.3.xml', 'D:/dranziera_protocol/Electronics\\\\Electronics.neg.4.xml', 'D:/dranziera_protocol/Electronics\\\\Electronics.pos.0.xml', 'D:/dranziera_protocol/Electronics\\\\Electronics.pos.1.xml', 'D:/dranziera_protocol/Electronics\\\\Electronics.pos.2.xml', 'D:/dranziera_protocol/Electronics\\\\Electronics.pos.3.xml', 'D:/dranziera_protocol/Electronics\\\\Electronics.pos.4.xml', 'D:/dranziera_protocol/Health\\\\Health.neg.0.xml', 'D:/dranziera_protocol/Health\\\\Health.neg.1.xml', 'D:/dranziera_protocol/Health\\\\Health.neg.2.xml', 'D:/dranziera_protocol/Health\\\\Health.neg.3.xml', 'D:/dranziera_protocol/Health\\\\Health.neg.4.xml', 'D:/dranziera_protocol/Health\\\\Health.pos.0.xml', 'D:/dranziera_protocol/Health\\\\Health.pos.1.xml', 'D:/dranziera_protocol/Health\\\\Health.pos.2.xml', 'D:/dranziera_protocol/Health\\\\Health.pos.3.xml', 'D:/dranziera_protocol/Health\\\\Health.pos.4.xml', 'D:/dranziera_protocol/Home_Kitchen\\\\Home_Kitchen.neg.0.xml', 'D:/dranziera_protocol/Home_Kitchen\\\\Home_Kitchen.neg.1.xml', 'D:/dranziera_protocol/Home_Kitchen\\\\Home_Kitchen.neg.2.xml', 'D:/dranziera_protocol/Home_Kitchen\\\\Home_Kitchen.neg.3.xml', 'D:/dranziera_protocol/Home_Kitchen\\\\Home_Kitchen.neg.4.xml', 'D:/dranziera_protocol/Home_Kitchen\\\\Home_Kitchen.pos.0.xml', 'D:/dranziera_protocol/Home_Kitchen\\\\Home_Kitchen.pos.1.xml', 'D:/dranziera_protocol/Home_Kitchen\\\\Home_Kitchen.pos.2.xml', 'D:/dranziera_protocol/Home_Kitchen\\\\Home_Kitchen.pos.3.xml', 'D:/dranziera_protocol/Home_Kitchen\\\\Home_Kitchen.pos.4.xml', 'D:/dranziera_protocol/Movies_TV\\\\Movies_TV.neg.0.xml', 'D:/dranziera_protocol/Movies_TV\\\\Movies_TV.neg.1.xml', 'D:/dranziera_protocol/Movies_TV\\\\Movies_TV.neg.2.xml', 'D:/dranziera_protocol/Movies_TV\\\\Movies_TV.neg.3.xml', 'D:/dranziera_protocol/Movies_TV\\\\Movies_TV.neg.4.xml', 'D:/dranziera_protocol/Movies_TV\\\\Movies_TV.pos.0.xml', 'D:/dranziera_protocol/Movies_TV\\\\Movies_TV.pos.1.xml', 'D:/dranziera_protocol/Movies_TV\\\\Movies_TV.pos.2.xml', 'D:/dranziera_protocol/Movies_TV\\\\Movies_TV.pos.3.xml', 'D:/dranziera_protocol/Movies_TV\\\\Movies_TV.pos.4.xml', 'D:/dranziera_protocol/Music\\\\Music.neg.0.xml', 'D:/dranziera_protocol/Music\\\\Music.neg.1.xml', 'D:/dranziera_protocol/Music\\\\Music.neg.2.xml', 'D:/dranziera_protocol/Music\\\\Music.neg.3.xml', 'D:/dranziera_protocol/Music\\\\Music.neg.4.xml', 'D:/dranziera_protocol/Music\\\\Music.pos.0.xml', 'D:/dranziera_protocol/Music\\\\Music.pos.1.xml', 'D:/dranziera_protocol/Music\\\\Music.pos.2.xml', 'D:/dranziera_protocol/Music\\\\Music.pos.3.xml', 'D:/dranziera_protocol/Music\\\\Music.pos.4.xml', 'D:/dranziera_protocol/Office_Products\\\\Office_Products.neg.0.xml', 'D:/dranziera_protocol/Office_Products\\\\Office_Products.neg.1.xml', 'D:/dranziera_protocol/Office_Products\\\\Office_Products.neg.2.xml', 'D:/dranziera_protocol/Office_Products\\\\Office_Products.neg.3.xml', 'D:/dranziera_protocol/Office_Products\\\\Office_Products.neg.4.xml', 'D:/dranziera_protocol/Office_Products\\\\Office_Products.pos.0.xml', 'D:/dranziera_protocol/Office_Products\\\\Office_Products.pos.1.xml', 'D:/dranziera_protocol/Office_Products\\\\Office_Products.pos.2.xml', 'D:/dranziera_protocol/Office_Products\\\\Office_Products.pos.3.xml', 'D:/dranziera_protocol/Office_Products\\\\Office_Products.pos.4.xml', 'D:/dranziera_protocol/Patio\\\\Patio.neg.0.xml', 'D:/dranziera_protocol/Patio\\\\Patio.neg.1.xml', 'D:/dranziera_protocol/Patio\\\\Patio.neg.2.xml', 'D:/dranziera_protocol/Patio\\\\Patio.neg.3.xml', 'D:/dranziera_protocol/Patio\\\\Patio.neg.4.xml', 'D:/dranziera_protocol/Patio\\\\Patio.pos.0.xml', 'D:/dranziera_protocol/Patio\\\\Patio.pos.1.xml', 'D:/dranziera_protocol/Patio\\\\Patio.pos.2.xml', 'D:/dranziera_protocol/Patio\\\\Patio.pos.3.xml', 'D:/dranziera_protocol/Patio\\\\Patio.pos.4.xml', 'D:/dranziera_protocol/Pet_Supplies\\\\Pet_Supplies.neg.0.xml', 'D:/dranziera_protocol/Pet_Supplies\\\\Pet_Supplies.neg.1.xml', 'D:/dranziera_protocol/Pet_Supplies\\\\Pet_Supplies.neg.2.xml', 'D:/dranziera_protocol/Pet_Supplies\\\\Pet_Supplies.neg.3.xml', 'D:/dranziera_protocol/Pet_Supplies\\\\Pet_Supplies.neg.4.xml', 'D:/dranziera_protocol/Pet_Supplies\\\\Pet_Supplies.pos.0.xml', 'D:/dranziera_protocol/Pet_Supplies\\\\Pet_Supplies.pos.1.xml', 'D:/dranziera_protocol/Pet_Supplies\\\\Pet_Supplies.pos.2.xml', 'D:/dranziera_protocol/Pet_Supplies\\\\Pet_Supplies.pos.3.xml', 'D:/dranziera_protocol/Pet_Supplies\\\\Pet_Supplies.pos.4.xml', 'D:/dranziera_protocol/Shoes\\\\Shoes.neg.0.xml', 'D:/dranziera_protocol/Shoes\\\\Shoes.neg.1.xml', 'D:/dranziera_protocol/Shoes\\\\Shoes.neg.2.xml', 'D:/dranziera_protocol/Shoes\\\\Shoes.neg.3.xml', 'D:/dranziera_protocol/Shoes\\\\Shoes.neg.4.xml', 'D:/dranziera_protocol/Shoes\\\\Shoes.pos.0.xml', 'D:/dranziera_protocol/Shoes\\\\Shoes.pos.1.xml', 'D:/dranziera_protocol/Shoes\\\\Shoes.pos.2.xml', 'D:/dranziera_protocol/Shoes\\\\Shoes.pos.3.xml', 'D:/dranziera_protocol/Shoes\\\\Shoes.pos.4.xml', 'D:/dranziera_protocol/Software\\\\Software.neg.0.xml', 'D:/dranziera_protocol/Software\\\\Software.neg.1.xml', 'D:/dranziera_protocol/Software\\\\Software.neg.2.xml', 'D:/dranziera_protocol/Software\\\\Software.neg.3.xml', 'D:/dranziera_protocol/Software\\\\Software.neg.4.xml', 'D:/dranziera_protocol/Software\\\\Software.pos.0.xml', 'D:/dranziera_protocol/Software\\\\Software.pos.1.xml', 'D:/dranziera_protocol/Software\\\\Software.pos.2.xml', 'D:/dranziera_protocol/Software\\\\Software.pos.3.xml', 'D:/dranziera_protocol/Software\\\\Software.pos.4.xml', 'D:/dranziera_protocol/Sports_Outdoors\\\\Sports_Outdoors.neg.0.xml', 'D:/dranziera_protocol/Sports_Outdoors\\\\Sports_Outdoors.neg.1.xml', 'D:/dranziera_protocol/Sports_Outdoors\\\\Sports_Outdoors.neg.2.xml', 'D:/dranziera_protocol/Sports_Outdoors\\\\Sports_Outdoors.neg.3.xml', 'D:/dranziera_protocol/Sports_Outdoors\\\\Sports_Outdoors.neg.4.xml', 'D:/dranziera_protocol/Sports_Outdoors\\\\Sports_Outdoors.pos.0.xml', 'D:/dranziera_protocol/Sports_Outdoors\\\\Sports_Outdoors.pos.1.xml', 'D:/dranziera_protocol/Sports_Outdoors\\\\Sports_Outdoors.pos.2.xml', 'D:/dranziera_protocol/Sports_Outdoors\\\\Sports_Outdoors.pos.3.xml', 'D:/dranziera_protocol/Sports_Outdoors\\\\Sports_Outdoors.pos.4.xml', 'D:/dranziera_protocol/Tools_Home_Improvement\\\\Tools_Home_Improvement.neg.0.xml', 'D:/dranziera_protocol/Tools_Home_Improvement\\\\Tools_Home_Improvement.neg.1.xml', 'D:/dranziera_protocol/Tools_Home_Improvement\\\\Tools_Home_Improvement.neg.2.xml', 'D:/dranziera_protocol/Tools_Home_Improvement\\\\Tools_Home_Improvement.neg.3.xml', 'D:/dranziera_protocol/Tools_Home_Improvement\\\\Tools_Home_Improvement.neg.4.xml', 'D:/dranziera_protocol/Tools_Home_Improvement\\\\Tools_Home_Improvement.pos.0.xml', 'D:/dranziera_protocol/Tools_Home_Improvement\\\\Tools_Home_Improvement.pos.1.xml', 'D:/dranziera_protocol/Tools_Home_Improvement\\\\Tools_Home_Improvement.pos.2.xml', 'D:/dranziera_protocol/Tools_Home_Improvement\\\\Tools_Home_Improvement.pos.3.xml', 'D:/dranziera_protocol/Tools_Home_Improvement\\\\Tools_Home_Improvement.pos.4.xml', 'D:/dranziera_protocol/Toys_Games\\\\Toys_Games.neg.0.xml', 'D:/dranziera_protocol/Toys_Games\\\\Toys_Games.neg.1.xml', 'D:/dranziera_protocol/Toys_Games\\\\Toys_Games.neg.2.xml', 'D:/dranziera_protocol/Toys_Games\\\\Toys_Games.neg.3.xml', 'D:/dranziera_protocol/Toys_Games\\\\Toys_Games.neg.4.xml', 'D:/dranziera_protocol/Toys_Games\\\\Toys_Games.pos.0.xml', 'D:/dranziera_protocol/Toys_Games\\\\Toys_Games.pos.1.xml', 'D:/dranziera_protocol/Toys_Games\\\\Toys_Games.pos.2.xml', 'D:/dranziera_protocol/Toys_Games\\\\Toys_Games.pos.3.xml', 'D:/dranziera_protocol/Toys_Games\\\\Toys_Games.pos.4.xml', 'D:/dranziera_protocol/Video_Games\\\\Video_Games.neg.0.xml', 'D:/dranziera_protocol/Video_Games\\\\Video_Games.neg.1.xml', 'D:/dranziera_protocol/Video_Games\\\\Video_Games.neg.2.xml', 'D:/dranziera_protocol/Video_Games\\\\Video_Games.neg.3.xml', 'D:/dranziera_protocol/Video_Games\\\\Video_Games.neg.4.xml', 'D:/dranziera_protocol/Video_Games\\\\Video_Games.pos.0.xml', 'D:/dranziera_protocol/Video_Games\\\\Video_Games.pos.1.xml', 'D:/dranziera_protocol/Video_Games\\\\Video_Games.pos.2.xml', 'D:/dranziera_protocol/Video_Games\\\\Video_Games.pos.3.xml', 'D:/dranziera_protocol/Video_Games\\\\Video_Games.pos.4.xml']\n"
     ]
    }
   ],
   "source": [
    "print (allfiles)"
   ]
  },
  {
   "cell_type": "code",
   "execution_count": 138,
   "metadata": {},
   "outputs": [],
   "source": [
    "import xml.etree.ElementTree as ET"
   ]
  },
  {
   "cell_type": "code",
   "execution_count": 139,
   "metadata": {},
   "outputs": [],
   "source": [
    "from lxml import etree\n",
    "\n",
    "utf8_parser = etree.XMLParser(encoding='utf-8', recover=True)\n",
    "\n",
    "with open(\"D:/dranziera_protocol/OnlyText.txt\",'w',encoding = 'utf-8') as ftext, open(\"D:/dranziera_protocol/polarity.txt\",'w',encoding = 'utf-8') as flabel:\n",
    "    for file in allfiles:\n",
    "        root = etree.parse(file, parser=utf8_parser)\n",
    "        for neighbor in root.iter('sentence'):\n",
    "            textdata = neighbor.find('text').text\n",
    "            #print (textdata.strip())\n",
    "            ftext.write(textdata.strip()+\"\\n\")\n",
    "            polaritydata = neighbor.find('polarity').text\n",
    "            flabel.write(polaritydata + \"\\n\")"
   ]
  },
  {
   "cell_type": "code",
   "execution_count": null,
   "metadata": {},
   "outputs": [],
   "source": [
    "\"\"\"from lxml import etree\n",
    "\n",
    "utf8_parser = etree.XMLParser(encoding='utf-8', recover=True)\n",
    "\n",
    "with open(\"D:/dranziera_protocol/textdata.txt\",'w',encoding = 'utf-8') as f, open(\"D:/dranziera_protocol/polarity.txt\",'w',encoding = 'utf-8') as flabel:\n",
    "    for file in allfiles:\n",
    "        root = etree.parse(file, parser=utf8_parser)\n",
    "        for neighbor in root.iter('sentence'):\n",
    "        #print(neighbor.attrib)\n",
    "            textdata = neighbor.find('text').text\n",
    "            f.write(textdata)\n",
    "            polaritydata = neighbor.find('polarity').text\n",
    "            flabel.write(polaritydata)\n",
    "            f.write(\"\\n\")\n",
    "            flabel.write(\"\\n\")\"\"\"\n",
    "\n"
   ]
  }
 ],
 "metadata": {
  "kernelspec": {
   "display_name": "Python 3",
   "language": "python",
   "name": "python3"
  },
  "language_info": {
   "codemirror_mode": {
    "name": "ipython",
    "version": 3
   },
   "file_extension": ".py",
   "mimetype": "text/x-python",
   "name": "python",
   "nbconvert_exporter": "python",
   "pygments_lexer": "ipython3",
   "version": "3.6.4"
  }
 },
 "nbformat": 4,
 "nbformat_minor": 2
}
